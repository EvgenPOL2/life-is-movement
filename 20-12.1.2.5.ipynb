{
 "cells": [
  {
   "cell_type": "code",
   "execution_count": 1,
   "id": "b15f63ee-7399-4a43-8746-4095bae476a9",
   "metadata": {},
   "outputs": [
    {
     "data": {
      "text/plain": [
       "57256.8112"
      ]
     },
     "execution_count": 1,
     "metadata": {},
     "output_type": "execute_result"
    }
   ],
   "source": [
    "5.72568112e4"
   ]
  },
  {
   "cell_type": "code",
   "execution_count": 2,
   "id": "3c093daf-2afe-4089-98b5-dc4bef1cf3af",
   "metadata": {},
   "outputs": [
    {
     "data": {
      "text/plain": [
       "0.00843635"
      ]
     },
     "execution_count": 2,
     "metadata": {},
     "output_type": "execute_result"
    }
   ],
   "source": [
    "8.43635e-3"
   ]
  },
  {
   "cell_type": "code",
   "execution_count": 3,
   "id": "cd67b9dd-be39-4574-b463-03ac59d58633",
   "metadata": {},
   "outputs": [
    {
     "data": {
      "text/plain": [
       "1.1046221254112045e+30"
      ]
     },
     "execution_count": 3,
     "metadata": {},
     "output_type": "execute_result"
    }
   ],
   "source": [
    "1010.0**10"
   ]
  },
  {
   "cell_type": "code",
   "execution_count": 4,
   "id": "ea747b28-db8c-45e1-9171-ac27b7edf5c8",
   "metadata": {},
   "outputs": [
    {
     "data": {
      "text/plain": [
       "3.909090909090909"
      ]
     },
     "execution_count": 4,
     "metadata": {},
     "output_type": "execute_result"
    }
   ],
   "source": [
    "129/33"
   ]
  },
  {
   "cell_type": "code",
   "execution_count": 5,
   "id": "481ca8f3-3073-4774-a5ea-ce99d685c5aa",
   "metadata": {},
   "outputs": [
    {
     "data": {
      "text/plain": [
       "2"
      ]
     },
     "execution_count": 5,
     "metadata": {},
     "output_type": "execute_result"
    }
   ],
   "source": [
    "7//3"
   ]
  },
  {
   "cell_type": "code",
   "execution_count": null,
   "id": "bfe22ae5-3f8d-49da-9b68-c78dec166b61",
   "metadata": {},
   "outputs": [],
   "source": []
  }
 ],
 "metadata": {
  "kernelspec": {
   "display_name": "Python 3 (ipykernel)",
   "language": "python",
   "name": "python3"
  },
  "language_info": {
   "codemirror_mode": {
    "name": "ipython",
    "version": 3
   },
   "file_extension": ".py",
   "mimetype": "text/x-python",
   "name": "python",
   "nbconvert_exporter": "python",
   "pygments_lexer": "ipython3",
   "version": "3.8.1"
  }
 },
 "nbformat": 4,
 "nbformat_minor": 5
}
