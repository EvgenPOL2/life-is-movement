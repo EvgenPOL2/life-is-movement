{
 "cells": [
  {
   "cell_type": "code",
   "execution_count": 1,
   "id": "a305d1e0-c310-454b-b078-84bf52ce24e4",
   "metadata": {},
   "outputs": [
    {
     "name": "stdin",
     "output_type": "stream",
     "text": [
      "Сколько часов Ваня спал ночью? 5\n",
      "Сколько минут Ваня спал днем? 75\n"
     ]
    },
    {
     "name": "stdout",
     "output_type": "stream",
     "text": [
      "Итого Ваня спал в сутки: 375 минут\n"
     ]
    }
   ],
   "source": [
    "x=input(\"Сколько часов Ваня спал ночью?\") \n",
    "x=int(x)\n",
    "x=int(x*60)\n",
    "y=input(\"Сколько минут Ваня спал днем?\")\n",
    "y=int(y)\n",
    "print(\"Итого Ваня спал в сутки:\",x+y,\"минут\")"
   ]
  },
  {
   "cell_type": "code",
   "execution_count": 1,
   "id": "321c04c8-7c98-4c68-9914-8189497db419",
   "metadata": {},
   "outputs": [
    {
     "name": "stdin",
     "output_type": "stream",
     "text": [
      "Сколько часов Ваня спал ночью? 1\n",
      "Сколько минут Ваня спал днем? 0\n"
     ]
    },
    {
     "name": "stdout",
     "output_type": "stream",
     "text": [
      "Итого Ваня спал в сутки: 60 минут, Жалко Ваню :((\n"
     ]
    }
   ],
   "source": [
    "x=input(\"Сколько часов Ваня спал ночью?\") \n",
    "x=int(x)\n",
    "x=int(x*60)\n",
    "y=input(\"Сколько минут Ваня спал днем?\")\n",
    "y=int(y)\n",
    "print(\"Итого Ваня спал в сутки:\",x+y,\"минут,\",\"Жалко Ваню :((\")"
   ]
  }
 ],
 "metadata": {
  "kernelspec": {
   "display_name": "Python 3 (ipykernel)",
   "language": "python",
   "name": "python3"
  },
  "language_info": {
   "codemirror_mode": {
    "name": "ipython",
    "version": 3
   },
   "file_extension": ".py",
   "mimetype": "text/x-python",
   "name": "python",
   "nbconvert_exporter": "python",
   "pygments_lexer": "ipython3",
   "version": "3.8.1"
  }
 },
 "nbformat": 4,
 "nbformat_minor": 5
}
