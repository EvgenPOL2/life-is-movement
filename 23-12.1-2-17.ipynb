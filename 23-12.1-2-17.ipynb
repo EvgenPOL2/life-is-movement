{
 "cells": [
  {
   "cell_type": "code",
   "execution_count": 2,
   "id": "d98ec077-35fa-4bdc-a573-29c6d02def97",
   "metadata": {},
   "outputs": [
    {
     "name": "stdout",
     "output_type": "stream",
     "text": [
      "{6: [-2]}\n",
      "{6: [-2, -6]}\n",
      "{6: [-2, -6], 12: [-7]}\n",
      "{6: [-2, -6], 12: [-7]}\n"
     ]
    }
   ],
   "source": [
    "def process_dictionary(my_dict, key, value):\n",
    "    if key in my_dict:\n",
    "        my_dict[key]+=[value]\n",
    "        print(my_dict)\n",
    "    elif 3*key in my_dict:\n",
    "        my_dict[3*key]+=[value]\n",
    "        print(my_dict)\n",
    "    else:\n",
    "        my_dict[3*key]=[value]\n",
    "        print(my_dict)\n",
    "    return my_dict\n",
    "my_dict={}\n",
    "process_dictionary(my_dict, 2, -2)\n",
    "process_dictionary(my_dict, 6, -6)\n",
    "process_dictionary(my_dict, 4, -7)\n",
    "print(my_dict)"
   ]
  },
  {
   "cell_type": "code",
   "execution_count": 3,
   "id": "a90788ac-daa2-49c1-845b-d225fe112337",
   "metadata": {
    "tags": []
   },
   "outputs": [
    {
     "name": "stdout",
     "output_type": "stream",
     "text": [
      "{33: [48]}\n",
      "{33: [48], 42: [81]}\n",
      "{33: [48], 42: [81], -126: [16]}\n",
      "{33: [48, 8], 42: [81], -126: [16]}\n",
      "{33: [48, 8], 42: [81], -126: [16], -252: [13]}\n",
      "{33: [48, 8], 42: [81, 1], -126: [16], -252: [13]}\n",
      "{33: [48, 8], 42: [81, 1], -126: [16], -252: [13], 87: [4]}\n",
      "{33: [48, 8], 42: [81, 1], -126: [16], -252: [13], 87: [4, 18]}\n",
      "{33: [48, 8], 42: [81, 1], -126: [16], -252: [13, 0], 87: [4, 18]}\n",
      "{33: [48, 8], 42: [81, 1], -126: [16, 7], -252: [13, 0], 87: [4, 18]}\n",
      "{33: [48, 8], 42: [81, 1], -126: [16, 7], -252: [13, 0], 87: [4, 18]}\n"
     ]
    }
   ],
   "source": [
    "def process_dictionary(my_dict, key, value):\n",
    "    if key in my_dict:\n",
    "        my_dict[key]+=[value]\n",
    "        print(my_dict)\n",
    "    elif 3*key in my_dict:\n",
    "        my_dict[3*key]+=[value]\n",
    "        print(my_dict)\n",
    "    else:\n",
    "        my_dict[3*key]=[value]\n",
    "        print(my_dict)\n",
    "    return my_dict\n",
    "my_dict = {}\n",
    "process_dictionary(my_dict, 11, 48)\n",
    "process_dictionary(my_dict, 14, 81)\n",
    "process_dictionary(my_dict, -42, 16)\n",
    "process_dictionary(my_dict, 33, 8)\n",
    "process_dictionary(my_dict, -84, 13)\n",
    "process_dictionary(my_dict, 42, 1)\n",
    "process_dictionary(my_dict, 29, 4)\n",
    "process_dictionary(my_dict, 87, 18)\n",
    "process_dictionary(my_dict, -252, 0)\n",
    "process_dictionary(my_dict, -126, 7)\n",
    "print(my_dict)"
   ]
  }
 ],
 "metadata": {
  "kernelspec": {
   "display_name": "Python 3 (ipykernel)",
   "language": "python",
   "name": "python3"
  },
  "language_info": {
   "codemirror_mode": {
    "name": "ipython",
    "version": 3
   },
   "file_extension": ".py",
   "mimetype": "text/x-python",
   "name": "python",
   "nbconvert_exporter": "python",
   "pygments_lexer": "ipython3",
   "version": "3.8.1"
  }
 },
 "nbformat": 4,
 "nbformat_minor": 5
}
