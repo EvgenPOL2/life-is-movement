{
 "cells": [
  {
   "cell_type": "code",
   "execution_count": 1,
   "id": "82741cad-97c2-4b42-8fac-bdbb6c798541",
   "metadata": {},
   "outputs": [
    {
     "name": "stdin",
     "output_type": "stream",
     "text": [
      "Сколько минут Миша решил поспать? 630\n"
     ]
    },
    {
     "name": "stdout",
     "output_type": "stream",
     "text": [
      "Итого Миша ставит будильник на: 10 часов 30 минут\n"
     ]
    }
   ],
   "source": [
    "x=input(\"Сколько минут Миша решил поспать?\") \n",
    "x=int(x)\n",
    "y=int(x//60)\n",
    "z=int(x%60)\n",
    "print(\"Итого Миша ставит будильник на:\",y,\"часов\",z,\"минут\")"
   ]
  },
  {
   "cell_type": "code",
   "execution_count": 1,
   "id": "1f024fcd-990e-41fc-aa14-e52c83fb0bc6",
   "metadata": {},
   "outputs": [
    {
     "name": "stdin",
     "output_type": "stream",
     "text": [
      "Сколько минут Миша решил поспать? 447\n"
     ]
    },
    {
     "name": "stdout",
     "output_type": "stream",
     "text": [
      "Итого Миша ставит будильник на: 7 часов 27 минут\n"
     ]
    }
   ],
   "source": [
    "x=input(\"Сколько минут Миша решил поспать?\") \n",
    "x=int(x)\n",
    "y=int(x//60)\n",
    "z=int(x%60)\n",
    "print(\"Итого Миша ставит будильник на:\",y,\"часов\",z,\"минут\")"
   ]
  },
  {
   "cell_type": "code",
   "execution_count": null,
   "id": "09ccbe5b-d0d3-4463-9ca8-e5cdb364fc2b",
   "metadata": {},
   "outputs": [],
   "source": []
  }
 ],
 "metadata": {
  "kernelspec": {
   "display_name": "Python 3 (ipykernel)",
   "language": "python",
   "name": "python3"
  },
  "language_info": {
   "codemirror_mode": {
    "name": "ipython",
    "version": 3
   },
   "file_extension": ".py",
   "mimetype": "text/x-python",
   "name": "python",
   "nbconvert_exporter": "python",
   "pygments_lexer": "ipython3",
   "version": "3.8.1"
  }
 },
 "nbformat": 4,
 "nbformat_minor": 5
}
