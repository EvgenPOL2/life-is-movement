{
 "cells": [
  {
   "cell_type": "code",
   "execution_count": 9,
   "id": "b55a0676-090c-4ef2-a6e0-41c6ced9d5f0",
   "metadata": {},
   "outputs": [
    {
     "name": "stdin",
     "output_type": "stream",
     "text": [
      " 2\n",
      " 3\n"
     ]
    },
    {
     "name": "stdout",
     "output_type": "stream",
     "text": [
      "6\n"
     ]
    },
    {
     "name": "stdin",
     "output_type": "stream",
     "text": [
      " 3\n",
      " 3\n"
     ]
    },
    {
     "name": "stdout",
     "output_type": "stream",
     "text": [
      "9\n"
     ]
    },
    {
     "name": "stdin",
     "output_type": "stream",
     "text": [
      " 5\n",
      " 4\n"
     ]
    },
    {
     "name": "stdout",
     "output_type": "stream",
     "text": [
      "20\n"
     ]
    },
    {
     "name": "stdin",
     "output_type": "stream",
     "text": [
      " 6\n",
      " 6\n"
     ]
    },
    {
     "name": "stdout",
     "output_type": "stream",
     "text": [
      "36\n"
     ]
    },
    {
     "name": "stdin",
     "output_type": "stream",
     "text": [
      " 5\n",
      " 0\n",
      " 5\n",
      " 5\n"
     ]
    },
    {
     "name": "stdout",
     "output_type": "stream",
     "text": [
      "25\n"
     ]
    }
   ],
   "source": [
    "i=0\n",
    "while i<5:\n",
    "    a=int(input())\n",
    "    b=int(input())\n",
    "    if (a==0) and (b==0):\n",
    "        break # досрочное завершение цикла\n",
    "    if (a==0) or (b==0):\n",
    "        continue # переходим к следующей итерации\n",
    "    print (a*b)\n",
    "    i +=1\n"
   ]
  },
  {
   "cell_type": "code",
   "execution_count": 10,
   "id": "013e8ec1-c97a-4a13-874e-6f9d6d6c4fd6",
   "metadata": {},
   "outputs": [
    {
     "name": "stdout",
     "output_type": "stream",
     "text": [
      "7\n"
     ]
    }
   ],
   "source": [
    "k=0\n",
    "m=0\n",
    "while k<10:\n",
    "    k=k+1\n",
    "    m=m+k\n",
    "    if m>15:\n",
    "        break\n",
    "    k=k+1\n",
    "print (k)"
   ]
  },
  {
   "cell_type": "code",
   "execution_count": 11,
   "id": "74b08ddb-43e0-4b8a-a3d4-43f11dd687f6",
   "metadata": {},
   "outputs": [
    {
     "name": "stdout",
     "output_type": "stream",
     "text": [
      "10\n"
     ]
    }
   ],
   "source": [
    "k=0\n",
    "m=0\n",
    "while k<10:\n",
    "    k=k+1\n",
    "    m=m+k\n",
    "    if m>15:\n",
    "        continue\n",
    "    k=k+1\n",
    "print (k)"
   ]
  },
  {
   "cell_type": "code",
   "execution_count": null,
   "id": "7ec5134c-4476-4926-a3ed-b6042164ba3a",
   "metadata": {},
   "outputs": [],
   "source": []
  }
 ],
 "metadata": {
  "kernelspec": {
   "display_name": "Python 3 (ipykernel)",
   "language": "python",
   "name": "python3"
  },
  "language_info": {
   "codemirror_mode": {
    "name": "ipython",
    "version": 3
   },
   "file_extension": ".py",
   "mimetype": "text/x-python",
   "name": "python",
   "nbconvert_exporter": "python",
   "pygments_lexer": "ipython3",
   "version": "3.8.1"
  }
 },
 "nbformat": 4,
 "nbformat_minor": 5
}
