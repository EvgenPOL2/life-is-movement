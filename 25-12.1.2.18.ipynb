{
 "cells": [
  {
   "cell_type": "code",
   "execution_count": 14,
   "id": "fc792172-a921-4ca9-a739-f4ce09cc92ea",
   "metadata": {
    "collapsed": true,
    "jupyter": {
     "outputs_hidden": true
    },
    "tags": []
   },
   "outputs": [
    {
     "name": "stdout",
     "output_type": "stream",
     "text": [
      "['ivan Lena igor Slava sveta semen ivan semen lena ivan lena Igor slava Ivan\\n', 'semen lena ivan\\n', 'lena Igor slava sveta semen ivan semen lena ivan']\n",
      "{'ivan': 7, 'lena': 6, 'igor': 3, 'slava': 3, 'sveta': 2, 'semen': 5} -===-\n",
      "САМОЕ СЛОВО= ivan 7\n"
     ]
    }
   ],
   "source": [
    "with open('proba.txt','r') as f_o:\n",
    "    lines=f_o.readlines()\n",
    "    print(lines)\n",
    "line2=[]    \n",
    "for line in lines:\n",
    "    line=line.lower()  \n",
    "    line1=line.split()\n",
    "    line2+=line1\n",
    "my_dict={}\n",
    "for key in line2:\n",
    "    if key in my_dict:\n",
    "        my_dict[key] +=1\n",
    "    else:\n",
    "        my_dict[key]=1\n",
    "print(my_dict, '-===-')\n",
    "max_z=max(my_dict.values())    \n",
    "min_key=[]\n",
    "for key, value in my_dict.items():\n",
    "    if value==max_z:\n",
    "        min_key.append(key)\n",
    "key_min=min(min_key)\n",
    "print('САМОЕ СЛОВО=', key_min +' '+str(max_z))\n"
   ]
  },
  {
   "cell_type": "code",
   "execution_count": 4,
   "id": "828bd15c-de39-4788-a046-ac9428d1f9d1",
   "metadata": {},
   "outputs": [
    {
     "name": "stdout",
     "output_type": "stream",
     "text": [
      "САМОЕ СЛОВО= asdf 3\n"
     ]
    }
   ],
   "source": [
    "with open('input1218.txt','r') as f_o: # загружаем текст\n",
    "    lines=f_o.readlines() # читаем все строки в список lines\n",
    "line2=[] # создаем список, куда будем переносить все слова из строк текста    \n",
    "for line in lines:\n",
    "    line=line.lower() # приводим все слова к нижнему регистру\n",
    "    line1=line.split() # разбиваем строки по пробелу [.....] [.....] [......]\n",
    "    line2+=line1 # в цикле формируем список line2=[] [..... ...... ......]. Цикл завершится когда будут просмотрены все [.....]\n",
    "my_dict={} # создаем словарь\n",
    "for key in line2: # проходим по всему списку line2 перебирая все слова\n",
    "    if key in my_dict: # слово нашлось в словаре\n",
    "        my_dict[key] +=1 # увеличиваем количество его повторения на 1\n",
    "    else: # слово встретилось первый раз\n",
    "        my_dict[key]=1 # заносится в словарь как новое с числом повторения равное 1\n",
    "max_z=max(my_dict.values()) # максимальное значение по словарю (максимальное повторение слов)   \n",
    "min_key=[] # создаем новый список\n",
    "for key, value in my_dict.items(): # перебираем каждое слово с его количеством повторений\n",
    "    if value==max_z: # вводим условие, чтобы найти слово с максимальным повторением\n",
    "        min_key.append(key) # добавляем его в новый список\n",
    "key_min=min(min_key) # в новом списке ищем лексиграфически первое слово\n",
    "print('САМОЕ СЛОВО=', key_min +' '+str(max_z)) # выводим на печать первое слово с пробелом и преобразованное в строку число повторений"
   ]
  },
  {
   "cell_type": "code",
   "execution_count": null,
   "id": "b80ac4a2-80cf-436c-8663-6b24efadc32f",
   "metadata": {},
   "outputs": [],
   "source": []
  }
 ],
 "metadata": {
  "kernelspec": {
   "display_name": "Python 3 (ipykernel)",
   "language": "python",
   "name": "python3"
  },
  "language_info": {
   "codemirror_mode": {
    "name": "ipython",
    "version": 3
   },
   "file_extension": ".py",
   "mimetype": "text/x-python",
   "name": "python",
   "nbconvert_exporter": "python",
   "pygments_lexer": "ipython3",
   "version": "3.8.1"
  }
 },
 "nbformat": 4,
 "nbformat_minor": 5
}
