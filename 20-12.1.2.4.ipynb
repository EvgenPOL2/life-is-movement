{
 "cells": [
  {
   "cell_type": "code",
   "execution_count": 1,
   "id": "20eb7a0a-08f7-4c90-86df-cce1640ae0f8",
   "metadata": {},
   "outputs": [
    {
     "data": {
      "text/plain": [
       "15240729615"
      ]
     },
     "execution_count": 1,
     "metadata": {},
     "output_type": "execute_result"
    }
   ],
   "source": [
    "12345*1234567"
   ]
  },
  {
   "cell_type": "code",
   "execution_count": 2,
   "id": "0d9e73a0-b8e4-424d-85eb-d5f0c8bc68dd",
   "metadata": {},
   "outputs": [
    {
     "ename": "SyntaxError",
     "evalue": "unexpected EOF while parsing (2380546114.py, line 1)",
     "output_type": "error",
     "traceback": [
      "\u001b[1;36m  Cell \u001b[1;32mIn[2], line 1\u001b[1;36m\u001b[0m\n\u001b[1;33m    ((42*(-7))//((30+5*(-6))\u001b[0m\n\u001b[1;37m                            ^\u001b[0m\n\u001b[1;31mSyntaxError\u001b[0m\u001b[1;31m:\u001b[0m unexpected EOF while parsing\n"
     ]
    }
   ],
   "source": [
    "((42*(-7))//((30+5*(-6))"
   ]
  },
  {
   "cell_type": "code",
   "execution_count": 3,
   "id": "d19af1b1-9bbf-4d8c-93e9-e95260fc8a8d",
   "metadata": {},
   "outputs": [
    {
     "data": {
      "text/plain": [
       "1104622125411204510010000000000"
      ]
     },
     "execution_count": 3,
     "metadata": {},
     "output_type": "execute_result"
    }
   ],
   "source": [
    "1010**10"
   ]
  },
  {
   "cell_type": "code",
   "execution_count": null,
   "id": "36009f95-3ae8-46b1-b420-4efc38d76181",
   "metadata": {},
   "outputs": [],
   "source": []
  }
 ],
 "metadata": {
  "kernelspec": {
   "display_name": "Python 3 (ipykernel)",
   "language": "python",
   "name": "python3"
  },
  "language_info": {
   "codemirror_mode": {
    "name": "ipython",
    "version": 3
   },
   "file_extension": ".py",
   "mimetype": "text/x-python",
   "name": "python",
   "nbconvert_exporter": "python",
   "pygments_lexer": "ipython3",
   "version": "3.8.1"
  }
 },
 "nbformat": 4,
 "nbformat_minor": 5
}
