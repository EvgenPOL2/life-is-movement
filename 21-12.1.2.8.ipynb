{
 "cells": [
  {
   "cell_type": "code",
   "execution_count": 3,
   "id": "d0997f60-e843-49a2-8f73-ddde8c9d4c95",
   "metadata": {},
   "outputs": [
    {
     "name": "stdin",
     "output_type": "stream",
     "text": [
      " -5\n"
     ]
    },
    {
     "name": "stdout",
     "output_type": "stream",
     "text": [
      "False\n"
     ]
    }
   ],
   "source": [
    "a=int(input())\n",
    "print(a>0)"
   ]
  },
  {
   "cell_type": "code",
   "execution_count": 8,
   "id": "2adcc6b0-0a5f-4804-a4e3-51e9e4dfccf4",
   "metadata": {},
   "outputs": [
    {
     "name": "stdin",
     "output_type": "stream",
     "text": [
      " 2\n"
     ]
    },
    {
     "name": "stdout",
     "output_type": "stream",
     "text": [
      "False\n"
     ]
    }
   ],
   "source": [
    "a=int(input())\n",
    "print(a>=10 and a<100)"
   ]
  },
  {
   "cell_type": "code",
   "execution_count": 11,
   "id": "8a66d596-3144-4d8d-ab35-bb9d04f42edd",
   "metadata": {},
   "outputs": [
    {
     "name": "stdin",
     "output_type": "stream",
     "text": [
      " 10\n"
     ]
    },
    {
     "name": "stdout",
     "output_type": "stream",
     "text": [
      "True\n"
     ]
    }
   ],
   "source": [
    "a=int(input())\n",
    "print(10<=a<100)"
   ]
  },
  {
   "cell_type": "code",
   "execution_count": 12,
   "id": "76c7dd1c-2f3f-40ee-b18a-f7b008e1ca2b",
   "metadata": {},
   "outputs": [
    {
     "data": {
      "text/plain": [
       "True"
      ]
     },
     "execution_count": 12,
     "metadata": {},
     "output_type": "execute_result"
    }
   ],
   "source": [
    "x1, x2, x3 = False, True, False\n",
    "not x1 or x2 and x3"
   ]
  },
  {
   "cell_type": "code",
   "execution_count": 13,
   "id": "c0dc0c1f-6a01-4125-8166-ca3ebe2db031",
   "metadata": {},
   "outputs": [
    {
     "data": {
      "text/plain": [
       "False"
      ]
     },
     "execution_count": 13,
     "metadata": {},
     "output_type": "execute_result"
    }
   ],
   "source": [
    "((not x1) or x2) and x3"
   ]
  },
  {
   "cell_type": "code",
   "execution_count": 14,
   "id": "4775b2ac-b1f9-4957-a0ea-c48cac05f315",
   "metadata": {},
   "outputs": [
    {
     "data": {
      "text/plain": [
       "True"
      ]
     },
     "execution_count": 14,
     "metadata": {},
     "output_type": "execute_result"
    }
   ],
   "source": [
    "i=7\n",
    "k=24\n",
    "i<k//2 and 4*i>k or i>100"
   ]
  },
  {
   "cell_type": "code",
   "execution_count": 15,
   "id": "420f2350-552e-448d-92b5-5d2224323cbb",
   "metadata": {},
   "outputs": [
    {
     "data": {
      "text/plain": [
       "False"
      ]
     },
     "execution_count": 15,
     "metadata": {},
     "output_type": "execute_result"
    }
   ],
   "source": [
    "x=False\n",
    "y=True\n",
    "z=False\n",
    "x and not y or not y and not z or z and not x"
   ]
  },
  {
   "cell_type": "code",
   "execution_count": null,
   "id": "a05e78a1-4c41-4f2a-a1f1-dac82f21a81b",
   "metadata": {},
   "outputs": [],
   "source": []
  }
 ],
 "metadata": {
  "kernelspec": {
   "display_name": "Python 3 (ipykernel)",
   "language": "python",
   "name": "python3"
  },
  "language_info": {
   "codemirror_mode": {
    "name": "ipython",
    "version": 3
   },
   "file_extension": ".py",
   "mimetype": "text/x-python",
   "name": "python",
   "nbconvert_exporter": "python",
   "pygments_lexer": "ipython3",
   "version": "3.8.1"
  }
 },
 "nbformat": 4,
 "nbformat_minor": 5
}
