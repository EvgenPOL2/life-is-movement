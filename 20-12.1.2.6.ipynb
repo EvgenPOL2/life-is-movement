{
 "cells": [
  {
   "cell_type": "code",
   "execution_count": 1,
   "id": "24e22400-39b7-4045-bbed-e34bdd9919a5",
   "metadata": {},
   "outputs": [
    {
     "data": {
      "text/plain": [
       "12"
      ]
     },
     "execution_count": 1,
     "metadata": {},
     "output_type": "execute_result"
    }
   ],
   "source": [
    "int(12.23)"
   ]
  },
  {
   "cell_type": "code",
   "execution_count": 2,
   "id": "efdceff5-3efd-4ef8-a3f1-9ba040c5fa20",
   "metadata": {},
   "outputs": [
    {
     "data": {
      "text/plain": [
       "-48.33333"
      ]
     },
     "execution_count": 2,
     "metadata": {},
     "output_type": "execute_result"
    }
   ],
   "source": [
    "float(-48.33333)"
   ]
  },
  {
   "cell_type": "code",
   "execution_count": 3,
   "id": "fd0cd897-fc5b-49d5-b4bf-5e3dd3559c7e",
   "metadata": {},
   "outputs": [
    {
     "data": {
      "text/plain": [
       "-48"
      ]
     },
     "execution_count": 3,
     "metadata": {},
     "output_type": "execute_result"
    }
   ],
   "source": [
    "int(-48.33333)"
   ]
  },
  {
   "cell_type": "code",
   "execution_count": 4,
   "id": "65418356-15f1-48d9-80c6-f29950e8795e",
   "metadata": {},
   "outputs": [
    {
     "data": {
      "text/plain": [
       "-522405"
      ]
     },
     "execution_count": 4,
     "metadata": {},
     "output_type": "execute_result"
    }
   ],
   "source": [
    "11**21-int(float(11**21))"
   ]
  },
  {
   "cell_type": "code",
   "execution_count": 5,
   "id": "172de4cc-7b93-4662-a042-a27c0c98fe49",
   "metadata": {},
   "outputs": [
    {
     "data": {
      "text/plain": [
       "7400249944258160101211"
      ]
     },
     "execution_count": 5,
     "metadata": {},
     "output_type": "execute_result"
    }
   ],
   "source": [
    "11**21"
   ]
  },
  {
   "cell_type": "code",
   "execution_count": 6,
   "id": "a21b9024-747e-4be5-a215-3daa404442ce",
   "metadata": {},
   "outputs": [
    {
     "data": {
      "text/plain": [
       "7.400249944258161e+21"
      ]
     },
     "execution_count": 6,
     "metadata": {},
     "output_type": "execute_result"
    }
   ],
   "source": [
    "float(7400249944258160101211)"
   ]
  },
  {
   "cell_type": "code",
   "execution_count": 7,
   "id": "14adfbc2-0edd-47fa-a4b3-cfb6fec88253",
   "metadata": {},
   "outputs": [
    {
     "data": {
      "text/plain": [
       "7400249944258160623616"
      ]
     },
     "execution_count": 7,
     "metadata": {},
     "output_type": "execute_result"
    }
   ],
   "source": [
    "int(7.400249944258161e+21)"
   ]
  },
  {
   "cell_type": "code",
   "execution_count": 8,
   "id": "a7e7e3f4-4baf-4ee2-80af-b1eac256dda1",
   "metadata": {},
   "outputs": [
    {
     "data": {
      "text/plain": [
       "-522405"
      ]
     },
     "execution_count": 8,
     "metadata": {},
     "output_type": "execute_result"
    }
   ],
   "source": [
    "7400249944258160101211-7400249944258160623616"
   ]
  },
  {
   "cell_type": "code",
   "execution_count": null,
   "id": "ab8705f5-a66c-40fe-93ae-916aec49e403",
   "metadata": {},
   "outputs": [],
   "source": []
  }
 ],
 "metadata": {
  "kernelspec": {
   "display_name": "Python 3 (ipykernel)",
   "language": "python",
   "name": "python3"
  },
  "language_info": {
   "codemirror_mode": {
    "name": "ipython",
    "version": 3
   },
   "file_extension": ".py",
   "mimetype": "text/x-python",
   "name": "python",
   "nbconvert_exporter": "python",
   "pygments_lexer": "ipython3",
   "version": "3.8.1"
  }
 },
 "nbformat": 4,
 "nbformat_minor": 5
}
