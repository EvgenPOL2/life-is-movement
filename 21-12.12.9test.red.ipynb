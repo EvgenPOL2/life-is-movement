{
 "cells": [
  {
   "cell_type": "code",
   "execution_count": 9,
   "id": "64b54445-c4ec-45a6-866a-6343e409eaf9",
   "metadata": {},
   "outputs": [
    {
     "name": "stdin",
     "output_type": "stream",
     "text": [
      "Рекомендованный сон в часах: 12\n",
      "Необходимый сон в часах: 8\n",
      "Обычный сон Ани в часах: 9\n"
     ]
    },
    {
     "name": "stdout",
     "output_type": "stream",
     "text": [
      "Рекомендованный сон больше необходимого. Введите часы заново:\n"
     ]
    }
   ],
   "source": [
    "A=int(input(\"Рекомендованный сон в часах:\"))\n",
    "B=int(input(\"Необходимый сон в часах:\"))\n",
    "H=int(input(\"Обычный сон Ани в часах:\"))\n",
    "if A>B:\n",
    "    print(\"Рекомендованный сон больше необходимого. Введите часы заново:\")\n",
    "else:\n",
    "    if A<=H<=B:\n",
    "        print (\"Это нормально\")\n",
    "    elif H<A:\n",
    "        print (\"Недосып\")\n",
    "    elif H>B:\n",
    "        print (\"Пересып\")"
   ]
  },
  {
   "cell_type": "code",
   "execution_count": 10,
   "id": "eef5fbe8-58ad-4d44-9c9c-511b7d1f0f68",
   "metadata": {},
   "outputs": [
    {
     "name": "stdin",
     "output_type": "stream",
     "text": [
      "Рекомендованный сон в часах: 8\n",
      "Необходимый сон в часах: 12\n",
      "Обычный сон Ани в часах: 9\n"
     ]
    },
    {
     "name": "stdout",
     "output_type": "stream",
     "text": [
      "Это нормально\n"
     ]
    }
   ],
   "source": [
    "A=int(input(\"Рекомендованный сон в часах:\"))\n",
    "B=int(input(\"Необходимый сон в часах:\"))\n",
    "H=int(input(\"Обычный сон Ани в часах:\"))\n",
    "if A>B:\n",
    "    print(\"Рекомендованный сон больше необходимого. Введите часы заново:\")\n",
    "else:\n",
    "    if A<=H<=B:\n",
    "        print (\"Это нормально\")\n",
    "    elif H<A:\n",
    "        print (\"Недосып\")\n",
    "    elif H>B:\n",
    "        print (\"Пересып\")"
   ]
  },
  {
   "cell_type": "code",
   "execution_count": 11,
   "id": "f8c03f76-77e7-4132-9326-9e575105a151",
   "metadata": {},
   "outputs": [
    {
     "name": "stdin",
     "output_type": "stream",
     "text": [
      "Рекомендованный сон в часах: 6\n",
      "Необходимый сон в часах: 10\n",
      "Обычный сон Ани в часах: 12\n"
     ]
    },
    {
     "name": "stdout",
     "output_type": "stream",
     "text": [
      "Пересып\n"
     ]
    }
   ],
   "source": [
    "A=int(input(\"Рекомендованный сон в часах:\"))\n",
    "B=int(input(\"Необходимый сон в часах:\"))\n",
    "H=int(input(\"Обычный сон Ани в часах:\"))\n",
    "if A>B:\n",
    "    print(\"Рекомендованный сон больше необходимого. Введите часы заново:\")\n",
    "else:\n",
    "    if A<=H<=B:\n",
    "        print (\"Это нормально\")\n",
    "    elif H<A:\n",
    "        print (\"Недосып\")\n",
    "    elif H>B:\n",
    "        print (\"Пересып\")"
   ]
  },
  {
   "cell_type": "code",
   "execution_count": 12,
   "id": "abed1165-f3b1-4929-a3db-9add5ba53de1",
   "metadata": {},
   "outputs": [
    {
     "name": "stdin",
     "output_type": "stream",
     "text": [
      "Рекомендованный сон в часах: 5\n",
      "Необходимый сон в часах: 7\n",
      "Обычный сон Ани в часах: 2\n"
     ]
    },
    {
     "name": "stdout",
     "output_type": "stream",
     "text": [
      "Недосып\n"
     ]
    }
   ],
   "source": [
    "A=int(input(\"Рекомендованный сон в часах:\"))\n",
    "B=int(input(\"Необходимый сон в часах:\"))\n",
    "H=int(input(\"Обычный сон Ани в часах:\"))\n",
    "if A>B:\n",
    "    print(\"Рекомендованный сон больше необходимого. Введите часы заново:\")\n",
    "else:\n",
    "    if A<=H<=B:\n",
    "        print (\"Это нормально\")\n",
    "    elif H<A:\n",
    "        print (\"Недосып\")\n",
    "    elif H>B:\n",
    "        print (\"Пересып\")"
   ]
  },
  {
   "cell_type": "code",
   "execution_count": null,
   "id": "df4cec83-5fa6-4f8a-b7fc-9d6894dd0977",
   "metadata": {},
   "outputs": [],
   "source": []
  }
 ],
 "metadata": {
  "kernelspec": {
   "display_name": "Python 3 (ipykernel)",
   "language": "python",
   "name": "python3"
  },
  "language_info": {
   "codemirror_mode": {
    "name": "ipython",
    "version": 3
   },
   "file_extension": ".py",
   "mimetype": "text/x-python",
   "name": "python",
   "nbconvert_exporter": "python",
   "pygments_lexer": "ipython3",
   "version": "3.8.1"
  }
 },
 "nbformat": 4,
 "nbformat_minor": 5
}
