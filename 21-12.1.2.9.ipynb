{
 "cells": [
  {
   "cell_type": "code",
   "execution_count": 7,
   "id": "14714997-b708-480c-bcf1-7ff0a103dcb2",
   "metadata": {},
   "outputs": [
    {
     "name": "stdin",
     "output_type": "stream",
     "text": [
      " 5\n",
      " 0\n"
     ]
    },
    {
     "name": "stdout",
     "output_type": "stream",
     "text": [
      "Деление невозможно\n"
     ]
    },
    {
     "name": "stdin",
     "output_type": "stream",
     "text": [
      "Введите ненулевое значение 0\n"
     ]
    },
    {
     "name": "stdout",
     "output_type": "stream",
     "text": [
      "Вы не справились\n"
     ]
    }
   ],
   "source": [
    "a=int(input())\n",
    "b=int(input())\n",
    "if b!=0:\n",
    "    print(a/b)\n",
    "else:\n",
    "    print(\"Деление невозможно\")\n",
    "    b=int(input (\"Введите ненулевое значение\"))\n",
    "    if b==0:\n",
    "        print(\"Вы не справились\")\n",
    "    else:\n",
    "        print (a/b)"
   ]
  },
  {
   "cell_type": "code",
   "execution_count": null,
   "id": "57ccb6e5-bea5-45d9-bfc9-9b175d41f4b0",
   "metadata": {},
   "outputs": [],
   "source": []
  }
 ],
 "metadata": {
  "kernelspec": {
   "display_name": "Python 3 (ipykernel)",
   "language": "python",
   "name": "python3"
  },
  "language_info": {
   "codemirror_mode": {
    "name": "ipython",
    "version": 3
   },
   "file_extension": ".py",
   "mimetype": "text/x-python",
   "name": "python",
   "nbconvert_exporter": "python",
   "pygments_lexer": "ipython3",
   "version": "3.8.1"
  }
 },
 "nbformat": 4,
 "nbformat_minor": 5
}
