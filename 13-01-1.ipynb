{
 "cells": [
  {
   "cell_type": "code",
   "execution_count": null,
   "id": "4fa17600-1400-467e-ac0d-676912cccec4",
   "metadata": {},
   "outputs": [
    {
     "name": "stdout",
     "output_type": "stream",
     "text": [
      "Выполняемые операции: \n",
      "\"+\" - сложение чисел, \n",
      "\"-\" - вычитание чисел, \n",
      "\"/\" - деление чисел, \n",
      "\"*\" - умножение чисел, \n",
      "\"%\" - взятие остатка от деления, \n",
      "\"**\" - возведение первого числа в степень второго, \n",
      "\"//\" - целочисленное деление\n",
      " \n"
     ]
    }
   ],
   "source": [
    "from numpy import *\n",
    "print('''Выполняемые операции: \n",
    "\"+\" - сложение чисел, \n",
    "\"-\" - вычитание чисел, \n",
    "\"/\" - деление чисел, \n",
    "\"*\" - умножение чисел, \n",
    "\"%\" - взятие остатка от деления, \n",
    "\"**\" - возведение первого числа в степень второго, \n",
    "\"//\" - целочисленное деление\\n ''')\n",
    "n=input('Начать работу (y/n)?:')\n",
    "n1=[]\n",
    "n1=str(n)\n",
    "n1=n1.lower()\n",
    "if n1!='y' and n1!='n':\n",
    "    print('Вы некорректно ответили, работа завершена.')\n",
    "else:\n",
    "    while n1=='y'and n1!='n':\n",
    "        a=0\n",
    "        b=0\n",
    "        try:\n",
    "            a=float(input('Введите первое число:'))\n",
    "        except ValueError:\n",
    "            print('Ошибка при вводе первого числа!')    \n",
    "        c=input('Введите необходимую операцию:')\n",
    "        try:\n",
    "            b=float(input('Введите второе число:'))\n",
    "        except ValueError:\n",
    "            print('Ошибка при вводе второго числа!')    \n",
    "        print('РЕЗУЛЬТАТ:')\n",
    "        if c=='+':\n",
    "            print('Сложение чисел=', a+b)\n",
    "        elif c=='-':\n",
    "            print('Вычитание чисел=', a-b)\n",
    "        elif c=='/'and b!=0: \n",
    "            print('Деление чисел=', a/b)\n",
    "        elif c=='*':\n",
    "            print('Умножение чисел=', a*b)\n",
    "        elif c=='%'and b!=0:\n",
    "            print('Остаток от деления чисел=', mod(a, b))\n",
    "        elif c=='**':\n",
    "            if a==0 and b==0:\n",
    "                print('Возведение 0 в степень 0 не имеет смысла')\n",
    "            else:   \n",
    "                print('Возведение первого числа в степень второго=', pow(a, b))\n",
    "        elif c=='//'and b!=0:\n",
    "            def div(a, b):\n",
    "                return a//b\n",
    "            print('Целочисленное деление чисел=', div(a, b))\n",
    "        else:\n",
    "            print ('Деление на 0! или ошибка при вводе чисел или операции\\n')\n",
    "        print(' ')\n",
    "        n=input('Продолжить работу (y/n)?:')\n",
    "        n1=str(n)\n",
    "        n1=n1.lower()\n",
    "        if n1!='y' and n1!='n':\n",
    "            print('Вы некорректно ответили, работа завершена.')\n",
    "    print(' ')\n",
    "print('До встречи!')"
   ]
  },
  {
   "cell_type": "code",
   "execution_count": null,
   "id": "77e32d0f-0981-40bc-927a-15b9ca673ae1",
   "metadata": {},
   "outputs": [],
   "source": []
  }
 ],
 "metadata": {
  "kernelspec": {
   "display_name": "Python 3 (ipykernel)",
   "language": "python",
   "name": "python3"
  },
  "language_info": {
   "codemirror_mode": {
    "name": "ipython",
    "version": 3
   },
   "file_extension": ".py",
   "mimetype": "text/x-python",
   "name": "python",
   "nbconvert_exporter": "python",
   "pygments_lexer": "ipython3",
   "version": "3.9.12"
  }
 },
 "nbformat": 4,
 "nbformat_minor": 5
}
