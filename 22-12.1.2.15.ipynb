{
 "cells": [
  {
   "cell_type": "code",
   "execution_count": 2,
   "id": "96ee4e4f-80ec-41e0-aa56-6326f8629588",
   "metadata": {},
   "outputs": [
    {
     "name": "stdout",
     "output_type": "stream",
     "text": [
      "Hello, Ivan!\n",
      "Hello, Masha!\n",
      "Hello, Sasha!\n"
     ]
    }
   ],
   "source": [
    "students=['Ivan', 'Masha', 'Sasha']\n",
    "for student in students:\n",
    "    print('Hello, '+student+ '!')"
   ]
  },
  {
   "cell_type": "code",
   "execution_count": 5,
   "id": "f981e9cb-336d-4d1a-922b-fffa67822012",
   "metadata": {},
   "outputs": [
    {
     "name": "stdout",
     "output_type": "stream",
     "text": [
      "Hello, Ivan!\n",
      "Hello, Masha!\n",
      "Hello, Sasha!\n",
      "Ivan\n",
      "Masha\n",
      "Sasha\n"
     ]
    }
   ],
   "source": [
    "students=['Ivan', 'Masha', 'Sasha']\n",
    "for student in students:\n",
    "    print('Hello, '+student+ '!')\n",
    "print (students[0])\n",
    "print (students[1])\n",
    "print (students[2])"
   ]
  },
  {
   "cell_type": "code",
   "execution_count": 18,
   "id": "ce924fc8-7b88-4a7c-a819-4d0d0e2b5227",
   "metadata": {},
   "outputs": [
    {
     "name": "stdout",
     "output_type": "stream",
     "text": [
      "['Olga', 'Oleg']\n"
     ]
    }
   ],
   "source": [
    "x=[]\n",
    "x.append('Olga')\n",
    "x+=['Oleg']\n",
    "print(x)"
   ]
  },
  {
   "cell_type": "code",
   "execution_count": 19,
   "id": "5959b7f2-10fe-4b6a-b9e0-9aa35c22f971",
   "metadata": {},
   "outputs": [
    {
     "name": "stdout",
     "output_type": "stream",
     "text": [
      "[0, 10, 1, 3]\n"
     ]
    }
   ],
   "source": [
    "x=[0, 1, 3]\n",
    "x.insert(1, 10)\n",
    "print(x)"
   ]
  },
  {
   "cell_type": "code",
   "execution_count": 20,
   "id": "cd40210c-1c61-4c27-9711-16f5f93306a3",
   "metadata": {},
   "outputs": [
    {
     "name": "stdout",
     "output_type": "stream",
     "text": [
      "[0, 0, 0, 0, 0]\n"
     ]
    }
   ],
   "source": [
    "a=[0]*5\n",
    "print(a)"
   ]
  },
  {
   "cell_type": "code",
   "execution_count": 21,
   "id": "1beb4ea5-5875-4476-b3cc-20ee7d5a554d",
   "metadata": {},
   "outputs": [
    {
     "name": "stdout",
     "output_type": "stream",
     "text": [
      "[0, 0, 0, 0, 0]\n"
     ]
    }
   ],
   "source": [
    "a=[0 for i in range(5)]\n",
    "print(a)"
   ]
  },
  {
   "cell_type": "code",
   "execution_count": 22,
   "id": "e14a3630-4454-4ea3-b3d3-9c84fd6fd87c",
   "metadata": {},
   "outputs": [
    {
     "name": "stdout",
     "output_type": "stream",
     "text": [
      "[0, 1, 4, 9, 16]\n"
     ]
    }
   ],
   "source": [
    "a=[i*i for i in range(5)]\n",
    "print(a)"
   ]
  },
  {
   "cell_type": "code",
   "execution_count": 27,
   "id": "e9d73e18-9e52-42ea-a7d6-301327eec35b",
   "metadata": {},
   "outputs": [
    {
     "name": "stdin",
     "output_type": "stream",
     "text": [
      " 1 36 36 39 369\n"
     ]
    },
    {
     "name": "stdout",
     "output_type": "stream",
     "text": [
      "[1, 36, 36, 39, 369]\n"
     ]
    }
   ],
   "source": [
    "a=[int(i) for i in input().split()]\n",
    "print(a)"
   ]
  },
  {
   "cell_type": "code",
   "execution_count": 29,
   "id": "a76f0409-5129-4051-b64a-a9f3dbb14ba3",
   "metadata": {},
   "outputs": [
    {
     "name": "stdin",
     "output_type": "stream",
     "text": [
      " 1 5 l 5 pp 44\n"
     ]
    },
    {
     "name": "stdout",
     "output_type": "stream",
     "text": [
      "['1', '5', 'l', '5', 'pp', '44']\n"
     ]
    }
   ],
   "source": [
    "a=[i for i in input().split()]\n",
    "print(a)"
   ]
  },
  {
   "cell_type": "code",
   "execution_count": 33,
   "id": "6ee74396-541f-4214-a4e4-a0c193a79aae",
   "metadata": {},
   "outputs": [
    {
     "name": "stdout",
     "output_type": "stream",
     "text": [
      "[[0, 0, 0], [0, 0, 0], [0, 0, 0]]\n"
     ]
    }
   ],
   "source": [
    "n=3\n",
    "a=[[0]*n]*n\n",
    "print(a)"
   ]
  },
  {
   "cell_type": "code",
   "execution_count": 34,
   "id": "20c2d881-3b5d-4ea9-b03e-b2aebea336e3",
   "metadata": {},
   "outputs": [
    {
     "name": "stdout",
     "output_type": "stream",
     "text": [
      "[[5, 0, 0], [5, 0, 0], [5, 0, 0]]\n"
     ]
    }
   ],
   "source": [
    "n=3\n",
    "a=[[0]*n]*n\n",
    "a[0][0]=5\n",
    "print(a)"
   ]
  },
  {
   "cell_type": "code",
   "execution_count": 35,
   "id": "0fe2ddc2-d248-40bd-8922-5fcd3f310cf3",
   "metadata": {},
   "outputs": [
    {
     "name": "stdout",
     "output_type": "stream",
     "text": [
      "[[0, 0, 0], [0, 0, 0], [0, 0, 0]]\n"
     ]
    }
   ],
   "source": [
    "a=[[0]*n for i in range(n)]\n",
    "a=[[0 for j in range(n)] for i in range(n)]\n",
    "print(a)"
   ]
  },
  {
   "cell_type": "code",
   "execution_count": 52,
   "id": "49891a1d-3e9c-482e-8efc-1a51d26d1f27",
   "metadata": {},
   "outputs": [
    {
     "name": "stdout",
     "output_type": "stream",
     "text": [
      "['fer', 'del', 'eh', 'cy', 'for', 'o', 'f', 'f', 'o']\n",
      "9\n"
     ]
    }
   ],
   "source": [
    "str=['fer', 'del', 'eh', 'cy']\n",
    "str+=['for']\n",
    "str+='offo'\n",
    "print(str)\n",
    "print(len(str))"
   ]
  },
  {
   "cell_type": "code",
   "execution_count": 40,
   "id": "6f57283d-47b8-45ec-bc66-ddb35901a22a",
   "metadata": {},
   "outputs": [
    {
     "name": "stdout",
     "output_type": "stream",
     "text": [
      "[8, 10, 12]\n"
     ]
    }
   ],
   "source": [
    "list1=[8, 10, 12]\n",
    "list2=list1\n",
    "print (list2)"
   ]
  },
  {
   "cell_type": "code",
   "execution_count": 41,
   "id": "f65814f9-e44d-4d04-8f50-d20bce86b364",
   "metadata": {},
   "outputs": [
    {
     "name": "stdout",
     "output_type": "stream",
     "text": [
      "[8, 4, 12]\n"
     ]
    }
   ],
   "source": [
    "list1=[8, 10, 12]\n",
    "list2=list1\n",
    "list1[1]=4\n",
    "print (list2)"
   ]
  },
  {
   "cell_type": "code",
   "execution_count": 42,
   "id": "0d4e48f4-6e97-447c-ae05-aaa291ac9fed",
   "metadata": {},
   "outputs": [
    {
     "name": "stdout",
     "output_type": "stream",
     "text": [
      "[6, 10, 12]\n"
     ]
    }
   ],
   "source": [
    "list1=[8, 10, 12]\n",
    "list2=list1\n",
    "list2[0]=6\n",
    "print (list1)"
   ]
  },
  {
   "cell_type": "code",
   "execution_count": 45,
   "id": "6d077cb4-e29f-41c0-8212-f8a11b1be4ae",
   "metadata": {},
   "outputs": [
    {
     "name": "stdout",
     "output_type": "stream",
     "text": [
      "[1, 2]\n"
     ]
    }
   ],
   "source": [
    "list1=[8, 10, 12]\n",
    "list1=[1, 2]\n",
    "list2=list1\n",
    "print (list2)"
   ]
  },
  {
   "cell_type": "code",
   "execution_count": 49,
   "id": "262c411e-e863-46b9-bacd-14fe2a71a24f",
   "metadata": {},
   "outputs": [
    {
     "name": "stdout",
     "output_type": "stream",
     "text": [
      "[8, 10, 12]\n",
      "[8, 4, 12]\n",
      "[6, 4, 12]\n",
      "[6, 4, 12]\n"
     ]
    }
   ],
   "source": [
    "list1=[8, 10, 12]\n",
    "list2=list1\n",
    "print (list2)\n",
    "list1[1]=4\n",
    "print (list2)\n",
    "list2[0]=6\n",
    "print (list1)\n",
    "list1=[1, 2]\n",
    "print (list2)"
   ]
  },
  {
   "cell_type": "code",
   "execution_count": null,
   "id": "c655ebfb-02d2-4657-a04e-253b17fd0a08",
   "metadata": {},
   "outputs": [],
   "source": []
  }
 ],
 "metadata": {
  "kernelspec": {
   "display_name": "Python 3 (ipykernel)",
   "language": "python",
   "name": "python3"
  },
  "language_info": {
   "codemirror_mode": {
    "name": "ipython",
    "version": 3
   },
   "file_extension": ".py",
   "mimetype": "text/x-python",
   "name": "python",
   "nbconvert_exporter": "python",
   "pygments_lexer": "ipython3",
   "version": "3.8.1"
  }
 },
 "nbformat": 4,
 "nbformat_minor": 5
}
