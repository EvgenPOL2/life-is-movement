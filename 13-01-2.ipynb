{
 "cells": [
  {
   "cell_type": "code",
   "execution_count": 4,
   "id": "d926c8e6-b133-4b81-933e-fbfe502fc3e1",
   "metadata": {},
   "outputs": [
    {
     "name": "stdout",
     "output_type": "stream",
     "text": [
      "Выполняемые операции: \n",
      "\"+\" - сложение чисел, \n",
      "\"-\" - вычитание чисел, \n",
      "\"/\" - деление чисел, \n",
      "\"*\" - умножение чисел, \n",
      "\"%\" - взятие остатка от деления, \n",
      "\"**\" - возведение первого числа в степень второго, \n",
      "\"//\" - целочисленное деление\n",
      " \n"
     ]
    },
    {
     "name": "stdin",
     "output_type": "stream",
     "text": [
      "Начать работу (y/n)?: y\n",
      "Введите первое число: 20\n",
      "Введите необходимую операцию: %\n",
      "Введите второе число: 6\n"
     ]
    },
    {
     "name": "stdout",
     "output_type": "stream",
     "text": [
      "РЕЗУЛЬТАТ:\n",
      "Остаток от деления чисел= 2.0\n",
      " \n"
     ]
    },
    {
     "name": "stdin",
     "output_type": "stream",
     "text": [
      "Продолжить работу (y/n)?: y\n",
      "Введите первое число: 20\n",
      "Введите необходимую операцию: //\n",
      "Введите второе число: 6\n"
     ]
    },
    {
     "name": "stdout",
     "output_type": "stream",
     "text": [
      "РЕЗУЛЬТАТ:\n",
      "Целочисленное деление чисел= 3.0\n",
      " \n"
     ]
    },
    {
     "name": "stdin",
     "output_type": "stream",
     "text": [
      "Продолжить работу (y/n)?: n\n"
     ]
    },
    {
     "name": "stdout",
     "output_type": "stream",
     "text": [
      " \n",
      "До встречи!\n"
     ]
    }
   ],
   "source": [
    "from numpy import *\n",
    "print('''Выполняемые операции: \n",
    "\"+\" - сложение чисел, \n",
    "\"-\" - вычитание чисел, \n",
    "\"/\" - деление чисел, \n",
    "\"*\" - умножение чисел, \n",
    "\"%\" - взятие остатка от деления, \n",
    "\"**\" - возведение первого числа в степень второго, \n",
    "\"//\" - целочисленное деление\\n ''')\n",
    "n=input('Начать работу (y/n)?:')\n",
    "n1=[]\n",
    "n1=str(n)\n",
    "n1=n1.lower()\n",
    "if n1!='y' and n1!='n':\n",
    "    print('Вы некорректно ответили, работа завершена.')\n",
    "else:\n",
    "    while n1=='y'and n1!='n':\n",
    "        def inputFloat(p=None):\n",
    "            while True:\n",
    "                a=input(p)\n",
    "                try:\n",
    "                    return float(a)\n",
    "                except ValueError:\n",
    "                    print('Ошибка при вводе первого числа!')\n",
    "        f = inputFloat('Введите первое число:')\n",
    "        c=input('Введите необходимую операцию:')\n",
    "        def inputFloat(t=None):\n",
    "            while True:\n",
    "                b=input(t)\n",
    "                try:\n",
    "                    return float(b)\n",
    "                except ValueError:\n",
    "                    print('Ошибка при вводе второго числа!')\n",
    "        g = inputFloat('Введите второе число:')  \n",
    "        print('РЕЗУЛЬТАТ:')\n",
    "        if c=='+':\n",
    "            print('Сложение чисел=', f+g)\n",
    "        elif c=='-':\n",
    "            print('Вычитание чисел=', f-g)\n",
    "        elif c=='/'and g!=0: \n",
    "            print('Деление чисел=', f/g)\n",
    "        elif c=='*':\n",
    "            print('Умножение чисел=', f*g)\n",
    "        elif c=='%'and g!=0:\n",
    "            print('Остаток от деления чисел=', mod(f, g))\n",
    "        elif c=='**':\n",
    "            if f==0 and g==0:\n",
    "                print('Возведение 0 в степень 0 не имеет смысла')\n",
    "            else:   \n",
    "                print('Возведение первого числа в степень второго=', pow(f, g))\n",
    "        elif c=='//'and g!=0:\n",
    "            def div(f, g):\n",
    "                return f//g\n",
    "            print('Целочисленное деление чисел=', div(f, g))\n",
    "        else:\n",
    "            print ('Деление на 0! или ошибка при вводе операции\\n')\n",
    "        print(' ')\n",
    "        n=input('Продолжить работу (y/n)?:')\n",
    "        n1=str(n)\n",
    "        n1=n1.lower()\n",
    "        if n1!='y' and n1!='n':\n",
    "            print('Вы некорректно ответили, работа завершена.')\n",
    "    print(' ')\n",
    "print('До встречи!')"
   ]
  },
  {
   "cell_type": "code",
   "execution_count": null,
   "id": "e73b87dd-6881-4100-9eed-dd593e1fdd63",
   "metadata": {},
   "outputs": [],
   "source": []
  },
  {
   "cell_type": "code",
   "execution_count": 4,
   "id": "fe82acf4-8885-4e84-855f-8a8a34256157",
   "metadata": {},
   "outputs": [
    {
     "name": "stdin",
     "output_type": "stream",
     "text": [
      "Введите число:  2\n"
     ]
    }
   ],
   "source": [
    "def inputFloat(prompt=None):\n",
    "    while True:\n",
    "        s = input(prompt)\n",
    "        try:\n",
    "            return float(s)\n",
    "        except ValueError:\n",
    "            print('Ошибка. Ожидалось вещественное число.')\n",
    "\n",
    "\n",
    "f = inputFloat('Введите число: ')"
   ]
  },
  {
   "cell_type": "code",
   "execution_count": null,
   "id": "872c0330-831a-45b4-b93a-d0c38b317305",
   "metadata": {},
   "outputs": [],
   "source": []
  }
 ],
 "metadata": {
  "kernelspec": {
   "display_name": "Python 3 (ipykernel)",
   "language": "python",
   "name": "python3"
  },
  "language_info": {
   "codemirror_mode": {
    "name": "ipython",
    "version": 3
   },
   "file_extension": ".py",
   "mimetype": "text/x-python",
   "name": "python",
   "nbconvert_exporter": "python",
   "pygments_lexer": "ipython3",
   "version": "3.9.12"
  }
 },
 "nbformat": 4,
 "nbformat_minor": 5
}
