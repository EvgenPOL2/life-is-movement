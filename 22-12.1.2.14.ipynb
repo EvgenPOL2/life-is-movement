{
 "cells": [
  {
   "cell_type": "code",
   "execution_count": 4,
   "id": "b9f9c599-6329-4bd8-b625-2812585252da",
   "metadata": {},
   "outputs": [
    {
     "name": "stdout",
     "output_type": "stream",
     "text": [
      "ATGG"
     ]
    }
   ],
   "source": [
    "genome='ATGG'\n",
    "for i in range (4):\n",
    "    print (genome [i], end=(''))"
   ]
  },
  {
   "cell_type": "code",
   "execution_count": 7,
   "id": "b70a9b68-9fda-412b-b85d-332f71f8c2e5",
   "metadata": {},
   "outputs": [
    {
     "name": "stdin",
     "output_type": "stream",
     "text": [
      " 5\n"
     ]
    },
    {
     "name": "stdout",
     "output_type": "stream",
     "text": [
      "*\n",
      "**\n",
      "***\n",
      "****\n",
      "*****\n"
     ]
    }
   ],
   "source": [
    "n=int(input())\n",
    "y='*'\n",
    "while len(y)<=n:\n",
    "    print(y)\n",
    "    y+='*'"
   ]
  },
  {
   "cell_type": "code",
   "execution_count": 8,
   "id": "52dd6cff-68c7-42be-b7c3-424de586c8b9",
   "metadata": {},
   "outputs": [
    {
     "name": "stdout",
     "output_type": "stream",
     "text": [
      "ATGG"
     ]
    }
   ],
   "source": [
    "genome='ATGG'\n",
    "for c in genome:\n",
    "    print (c, end=(''))"
   ]
  },
  {
   "cell_type": "code",
   "execution_count": 17,
   "id": "291be8a1-5685-4117-a350-8df4c3d83e4a",
   "metadata": {},
   "outputs": [
    {
     "name": "stdin",
     "output_type": "stream",
     "text": [
      " ACCTA\n"
     ]
    },
    {
     "name": "stdout",
     "output_type": "stream",
     "text": [
      "2\n"
     ]
    }
   ],
   "source": [
    "genome=input()\n",
    "cnt=0\n",
    "for nucl in genome:\n",
    "    if nucl == 'C':\n",
    "        cnt+=1\n",
    "print (cnt)\n",
    "    "
   ]
  },
  {
   "cell_type": "code",
   "execution_count": 18,
   "id": "af5f7a32-d162-4dd0-87d5-acbb0763a3c1",
   "metadata": {},
   "outputs": [
    {
     "name": "stdin",
     "output_type": "stream",
     "text": [
      " ACCTA\n"
     ]
    },
    {
     "name": "stdout",
     "output_type": "stream",
     "text": [
      "2\n"
     ]
    }
   ],
   "source": [
    "genome=input()\n",
    "x=0\n",
    "for i in genome:\n",
    "    if i == 'C':\n",
    "        x+=1\n",
    "print (x)"
   ]
  },
  {
   "cell_type": "code",
   "execution_count": 20,
   "id": "5a89fd5b-a396-4a6d-aa14-f15cfd33c5aa",
   "metadata": {},
   "outputs": [
    {
     "name": "stdin",
     "output_type": "stream",
     "text": [
      " ACCCC\n"
     ]
    },
    {
     "name": "stdout",
     "output_type": "stream",
     "text": [
      "4\n"
     ]
    }
   ],
   "source": [
    "genome=input()\n",
    "print(genome.count('C'))"
   ]
  },
  {
   "cell_type": "code",
   "execution_count": 33,
   "id": "a01ae931-c23e-4c07-b8d2-f290d24f4857",
   "metadata": {},
   "outputs": [
    {
     "data": {
      "text/plain": [
       "True"
      ]
     },
     "execution_count": 33,
     "metadata": {},
     "output_type": "execute_result"
    }
   ],
   "source": [
    "s='aTGcc'\n",
    "s.find('TG')==1"
   ]
  },
  {
   "cell_type": "code",
   "execution_count": 29,
   "id": "d46d4793-6d8b-4b83-af7c-ad7b9afaaa0c",
   "metadata": {},
   "outputs": [
    {
     "name": "stdin",
     "output_type": "stream",
     "text": [
      " AAATG\n"
     ]
    },
    {
     "name": "stdout",
     "output_type": "stream",
     "text": [
      "AAATG\n"
     ]
    }
   ],
   "source": [
    "s=input()\n",
    "if 'TG'in s:\n",
    "    print (s)"
   ]
  },
  {
   "cell_type": "code",
   "execution_count": 41,
   "id": "2f4f6a4a-18d2-41b9-8fdc-91fc3c4c87b9",
   "metadata": {},
   "outputs": [
    {
     "data": {
      "text/plain": [
       "2"
      ]
     },
     "execution_count": 41,
     "metadata": {},
     "output_type": "execute_result"
    }
   ],
   "source": [
    "s='agTtcAGtc'\n",
    "s.upper().count('gt'.upper())"
   ]
  },
  {
   "cell_type": "code",
   "execution_count": 60,
   "id": "55075305-f6a6-4bdd-81e8-2416c47ccab0",
   "metadata": {},
   "outputs": [
    {
     "name": "stdin",
     "output_type": "stream",
     "text": [
      " aaoopppouuurw\n"
     ]
    },
    {
     "name": "stdout",
     "output_type": "stream",
     "text": [
      "NO\n",
      "NO\n",
      "NO\n",
      "NO\n",
      "NO\n",
      "NO\n"
     ]
    }
   ],
   "source": [
    "s=input()\n",
    "i=0\n",
    "j=len(s)-1\n",
    "is_palindrom=True\n",
    "while i<j:\n",
    "    if s[i] !=s[j]:\n",
    "        is_palindrom=False\n",
    "    i+=1\n",
    "    j-=1\n",
    "    if is_palindrom:\n",
    "        print('YES')\n",
    "    else:\n",
    "        print('NO')"
   ]
  },
  {
   "cell_type": "code",
   "execution_count": 54,
   "id": "2cb69ca8-8cf9-4328-9bb4-7e7721480f2c",
   "metadata": {},
   "outputs": [
    {
     "name": "stdin",
     "output_type": "stream",
     "text": [
      " AOOPP\n"
     ]
    },
    {
     "name": "stdout",
     "output_type": "stream",
     "text": [
      "NO\n"
     ]
    }
   ],
   "source": [
    "s=input()\n",
    "r=s[::-1]\n",
    "if s==r:\n",
    "        print('YES')\n",
    "else:\n",
    "        print('NO')"
   ]
  },
  {
   "cell_type": "code",
   "execution_count": 63,
   "id": "7572dec4-6b6c-4260-8728-af3352d4de07",
   "metadata": {},
   "outputs": [
    {
     "data": {
      "text/plain": [
       "'gitsorsuaq'"
      ]
     },
     "execution_count": 63,
     "metadata": {},
     "output_type": "execute_result"
    }
   ],
   "source": [
    "str='ateqanngitsorsuaq'\n",
    "#str='ateqanngitsorsuaq'\n",
    "str[-10:]"
   ]
  },
  {
   "cell_type": "code",
   "execution_count": 64,
   "id": "865553a9-6e8d-4f09-8110-2a3d3e9776c0",
   "metadata": {},
   "outputs": [
    {
     "data": {
      "text/plain": [
       "'ateqanng'"
      ]
     },
     "execution_count": 64,
     "metadata": {},
     "output_type": "execute_result"
    }
   ],
   "source": [
    "str='ateqanngitsorsuaq'\n",
    "#str='ateqanngitsorsuaq'\n",
    "str[:8]"
   ]
  },
  {
   "cell_type": "code",
   "execution_count": 65,
   "id": "11a8199e-026c-4060-94c8-224cc3226239",
   "metadata": {},
   "outputs": [
    {
     "data": {
      "text/plain": [
       "'qont'"
      ]
     },
     "execution_count": 65,
     "metadata": {},
     "output_type": "execute_result"
    }
   ],
   "source": [
    "str='ateqanngitsorsuaq'\n",
    "#str='ateqanngitsorsuaq'\n",
    "str[::-5]"
   ]
  },
  {
   "cell_type": "code",
   "execution_count": 66,
   "id": "c662cd20-5cd4-46b3-8047-0263bd3d1acd",
   "metadata": {},
   "outputs": [
    {
     "data": {
      "text/plain": [
       "'ateqanngi'"
      ]
     },
     "execution_count": 66,
     "metadata": {},
     "output_type": "execute_result"
    }
   ],
   "source": [
    "str='ateqanngitsorsuaq'\n",
    "#str='ateqanngitsorsuaq'\n",
    "str[:-8]"
   ]
  },
  {
   "cell_type": "code",
   "execution_count": 67,
   "id": "baf74fde-44a4-47f1-bb22-754741a5ecba",
   "metadata": {},
   "outputs": [
    {
     "data": {
      "text/plain": [
       "'nngitsorsuaq'"
      ]
     },
     "execution_count": 67,
     "metadata": {},
     "output_type": "execute_result"
    }
   ],
   "source": [
    "str='ateqanngitsorsuaq'\n",
    "#str='ateqanngitsorsuaq'\n",
    "str[5:]"
   ]
  },
  {
   "cell_type": "code",
   "execution_count": 68,
   "id": "bdfc030a-e946-435c-b3b6-b9a18362ecba",
   "metadata": {},
   "outputs": [
    {
     "data": {
      "text/plain": [
       "'gitso'"
      ]
     },
     "execution_count": 68,
     "metadata": {},
     "output_type": "execute_result"
    }
   ],
   "source": [
    "str='ateqanngitsorsuaq'\n",
    "#str='ateqanngitsorsuaq'\n",
    "str[7:12]"
   ]
  },
  {
   "cell_type": "code",
   "execution_count": 69,
   "id": "3c0ffbb5-50ee-4eb4-bdb6-5ad35b232da9",
   "metadata": {},
   "outputs": [
    {
     "data": {
      "text/plain": [
       "'ar'"
      ]
     },
     "execution_count": 69,
     "metadata": {},
     "output_type": "execute_result"
    }
   ],
   "source": [
    "str='ateqanngitsorsuaq'\n",
    "#str='ateqanngitsorsuaq'\n",
    "str[-2:-8:-3]"
   ]
  },
  {
   "cell_type": "code",
   "execution_count": null,
   "id": "d701b096-6098-409d-bebc-f36274a047d9",
   "metadata": {},
   "outputs": [],
   "source": []
  }
 ],
 "metadata": {
  "kernelspec": {
   "display_name": "Python 3 (ipykernel)",
   "language": "python",
   "name": "python3"
  },
  "language_info": {
   "codemirror_mode": {
    "name": "ipython",
    "version": 3
   },
   "file_extension": ".py",
   "mimetype": "text/x-python",
   "name": "python",
   "nbconvert_exporter": "python",
   "pygments_lexer": "ipython3",
   "version": "3.8.1"
  }
 },
 "nbformat": 4,
 "nbformat_minor": 5
}
