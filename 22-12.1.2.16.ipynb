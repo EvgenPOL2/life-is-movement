{
 "cells": [
  {
   "cell_type": "code",
   "execution_count": 10,
   "id": "0bae66c0-bfc1-46a5-8ce3-236b1f3ee3f6",
   "metadata": {},
   "outputs": [
    {
     "name": "stdout",
     "output_type": "stream",
     "text": [
      "5\n"
     ]
    }
   ],
   "source": [
    "def min(*a):\n",
    "    m=a[0]\n",
    "    for x in a:\n",
    "        if m>x:\n",
    "            m=x\n",
    "    return m\n",
    "print(a)"
   ]
  },
  {
   "cell_type": "code",
   "execution_count": 18,
   "id": "b671109f-40a4-4a50-b448-b8fd79d633a9",
   "metadata": {},
   "outputs": [
    {
     "name": "stdout",
     "output_type": "stream",
     "text": [
      "[2, 3, 4]\n"
     ]
    }
   ],
   "source": [
    "def my_range(start=2, stop=5, step=1):\n",
    "    res=[]\n",
    "    if step>0:\n",
    "        x=start\n",
    "        while x<stop:\n",
    "            res+=[x]\n",
    "            x+=step\n",
    "    elif step<0:\n",
    "        x=start\n",
    "        while x>stop:\n",
    "            res+=[x]\n",
    "            x+=step\n",
    "    return res\n",
    "print (my_range(2, 5))"
   ]
  },
  {
   "cell_type": "code",
   "execution_count": 20,
   "id": "4e137479-a4e2-4c3a-a539-2777eecf925c",
   "metadata": {},
   "outputs": [
    {
     "name": "stdout",
     "output_type": "stream",
     "text": [
      "[2, 5, 8, 11, 14]\n"
     ]
    }
   ],
   "source": [
    "def my_range(start=2, stop=15, step=3):\n",
    "    res=[]\n",
    "    if step>0:\n",
    "        x=start\n",
    "        while x<stop:\n",
    "            res+=[x]\n",
    "            x+=step\n",
    "    elif step<0:\n",
    "        x=start\n",
    "        while x>stop:\n",
    "            res+=[x]\n",
    "            x+=step\n",
    "    return res\n",
    "print (my_range(2, 15, 3))"
   ]
  },
  {
   "cell_type": "code",
   "execution_count": 21,
   "id": "e1b578a5-bb6c-4b00-8519-c8bf5b635ae5",
   "metadata": {},
   "outputs": [
    {
     "name": "stdout",
     "output_type": "stream",
     "text": [
      "[15, 12, 9, 6, 3]\n"
     ]
    }
   ],
   "source": [
    "def my_range(start=15, stop=2, step=-3):\n",
    "    res=[]\n",
    "    if step>0:\n",
    "        x=start\n",
    "        while x<stop:\n",
    "            res+=[x]\n",
    "            x+=step\n",
    "    elif step<0:\n",
    "        x=start\n",
    "        while x>stop:\n",
    "            res+=[x]\n",
    "            x+=step\n",
    "    return res\n",
    "print (my_range(15, 2, -3))"
   ]
  },
  {
   "cell_type": "code",
   "execution_count": 22,
   "id": "c75b7141-a6f9-45bc-9aff-c8b65c940e20",
   "metadata": {},
   "outputs": [
    {
     "name": "stdout",
     "output_type": "stream",
     "text": [
      "[0]\n"
     ]
    }
   ],
   "source": [
    "def append_zero(xs):\n",
    "    xs.append(0)\n",
    "    \n",
    "    \n",
    "a=[]\n",
    "append_zero(a)\n",
    "print(a)"
   ]
  },
  {
   "cell_type": "code",
   "execution_count": 28,
   "id": "50cfca5a-282c-4a91-bc7b-594f84ec0966",
   "metadata": {},
   "outputs": [
    {
     "data": {
      "text/plain": [
       "110"
      ]
     },
     "execution_count": 28,
     "metadata": {},
     "output_type": "execute_result"
    }
   ],
   "source": [
    "def func(x):\n",
    "    return x*2+10\n",
    "func(func(func(5)))"
   ]
  },
  {
   "cell_type": "code",
   "execution_count": 32,
   "id": "a3741271-eeb9-4fe5-a554-7994f5e9740f",
   "metadata": {},
   "outputs": [
    {
     "data": {
      "text/plain": [
       "20"
      ]
     },
     "execution_count": 32,
     "metadata": {},
     "output_type": "execute_result"
    }
   ],
   "source": [
    "def func(x):\n",
    "    return x*2+10\n",
    "func(5)"
   ]
  },
  {
   "cell_type": "code",
   "execution_count": 33,
   "id": "264b6933-fe3b-44d1-948c-6308d3987efd",
   "metadata": {},
   "outputs": [
    {
     "data": {
      "text/plain": [
       "50"
      ]
     },
     "execution_count": 33,
     "metadata": {},
     "output_type": "execute_result"
    }
   ],
   "source": [
    "func(20)"
   ]
  },
  {
   "cell_type": "code",
   "execution_count": 34,
   "id": "e5ed9497-d6b6-4c0a-896c-fa6b90c1d507",
   "metadata": {},
   "outputs": [
    {
     "data": {
      "text/plain": [
       "110"
      ]
     },
     "execution_count": 34,
     "metadata": {},
     "output_type": "execute_result"
    }
   ],
   "source": [
    "func(50)"
   ]
  },
  {
   "cell_type": "code",
   "execution_count": null,
   "id": "394611a9-3dd7-4f49-94e8-91573c22dc9b",
   "metadata": {},
   "outputs": [],
   "source": []
  }
 ],
 "metadata": {
  "kernelspec": {
   "display_name": "Python 3 (ipykernel)",
   "language": "python",
   "name": "python3"
  },
  "language_info": {
   "codemirror_mode": {
    "name": "ipython",
    "version": 3
   },
   "file_extension": ".py",
   "mimetype": "text/x-python",
   "name": "python",
   "nbconvert_exporter": "python",
   "pygments_lexer": "ipython3",
   "version": "3.8.1"
  }
 },
 "nbformat": 4,
 "nbformat_minor": 5
}
