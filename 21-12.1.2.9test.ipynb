{
 "cells": [
  {
   "cell_type": "code",
   "execution_count": 5,
   "id": "45850660-2571-440d-8968-11341a054614",
   "metadata": {},
   "outputs": [
    {
     "name": "stdin",
     "output_type": "stream",
     "text": [
      "Рекомендованный сон в часах: 8\n",
      "Необходимый сон в часах: 12\n",
      "Обычный сон Ани в часах: 9\n"
     ]
    },
    {
     "name": "stdout",
     "output_type": "stream",
     "text": [
      "Это нормально\n"
     ]
    }
   ],
   "source": [
    "A=int(input(\"Рекомендованный сон в часах:\"))\n",
    "B=int(input(\"Необходимый сон в часах:\"))\n",
    "H=int(input(\"Обычный сон Ани в часах:\"))\n",
    "if A<=H<=B:\n",
    "    print (\"Это нормально\")\n",
    "elif H<A:\n",
    "    print (\"Недосып\")\n",
    "elif H>B:\n",
    "    print (\"Пересып\")"
   ]
  },
  {
   "cell_type": "code",
   "execution_count": 6,
   "id": "87d4c76e-58a0-40ed-bf26-1bcceb36472c",
   "metadata": {},
   "outputs": [
    {
     "name": "stdin",
     "output_type": "stream",
     "text": [
      "Рекомендованный сон в часах: 6\n",
      "Необходимый сон в часах: 10\n",
      "Обычный сон Ани в часах: 12\n"
     ]
    },
    {
     "name": "stdout",
     "output_type": "stream",
     "text": [
      "Пересып\n"
     ]
    }
   ],
   "source": [
    "A=int(input(\"Рекомендованный сон в часах:\"))\n",
    "B=int(input(\"Необходимый сон в часах:\"))\n",
    "H=int(input(\"Обычный сон Ани в часах:\"))\n",
    "if A<=H<=B:\n",
    "    print (\"Это нормально\")\n",
    "elif H<A:\n",
    "    print (\"Недосып\")\n",
    "elif H>B:\n",
    "    print (\"Пересып\")"
   ]
  },
  {
   "cell_type": "code",
   "execution_count": 7,
   "id": "b35412e9-c19c-4b44-b79e-ad4f9dc3cc37",
   "metadata": {},
   "outputs": [
    {
     "name": "stdin",
     "output_type": "stream",
     "text": [
      "Рекомендованный сон в часах: 5\n",
      "Необходимый сон в часах: 7\n",
      "Обычный сон Ани в часах: 2\n"
     ]
    },
    {
     "name": "stdout",
     "output_type": "stream",
     "text": [
      "Недосып\n"
     ]
    }
   ],
   "source": [
    "A=int(input(\"Рекомендованный сон в часах:\"))\n",
    "B=int(input(\"Необходимый сон в часах:\"))\n",
    "H=int(input(\"Обычный сон Ани в часах:\"))\n",
    "if A<=H<=B:\n",
    "    print (\"Это нормально\")\n",
    "elif H<A:\n",
    "    print (\"Недосып\")\n",
    "elif H>B:\n",
    "    print (\"Пересып\")"
   ]
  },
  {
   "cell_type": "code",
   "execution_count": null,
   "id": "d5df38b6-7a4a-4c58-adb9-ec60f82bab16",
   "metadata": {},
   "outputs": [],
   "source": []
  }
 ],
 "metadata": {
  "kernelspec": {
   "display_name": "Python 3 (ipykernel)",
   "language": "python",
   "name": "python3"
  },
  "language_info": {
   "codemirror_mode": {
    "name": "ipython",
    "version": 3
   },
   "file_extension": ".py",
   "mimetype": "text/x-python",
   "name": "python",
   "nbconvert_exporter": "python",
   "pygments_lexer": "ipython3",
   "version": "3.8.1"
  }
 },
 "nbformat": 4,
 "nbformat_minor": 5
}
