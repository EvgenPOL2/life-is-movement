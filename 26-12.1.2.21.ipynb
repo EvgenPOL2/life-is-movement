{
 "cells": [
  {
   "cell_type": "code",
   "execution_count": 1,
   "id": "1d888461-521d-41ed-8da7-d92362172f14",
   "metadata": {},
   "outputs": [],
   "source": [
    "from numpy import *"
   ]
  },
  {
   "cell_type": "code",
   "execution_count": 2,
   "id": "68fded7d-0e51-4cd9-af31-897e024afdf1",
   "metadata": {},
   "outputs": [],
   "source": [
    "a=array([2,3,4]) # создание одномерного массива из списка целых чисел"
   ]
  },
  {
   "cell_type": "code",
   "execution_count": 3,
   "id": "08e5e72c-da5b-430d-a572-07690f545bcd",
   "metadata": {},
   "outputs": [
    {
     "name": "stdout",
     "output_type": "stream",
     "text": [
      "[2 3 4]\n"
     ]
    },
    {
     "data": {
      "text/plain": [
       "array([2, 3, 4])"
      ]
     },
     "execution_count": 3,
     "metadata": {},
     "output_type": "execute_result"
    }
   ],
   "source": [
    "print(a)\n",
    "a\n"
   ]
  },
  {
   "cell_type": "code",
   "execution_count": 4,
   "id": "29373d0a-de16-4efa-afe7-247702f99368",
   "metadata": {},
   "outputs": [
    {
     "data": {
      "text/plain": [
       "1"
      ]
     },
     "execution_count": 4,
     "metadata": {},
     "output_type": "execute_result"
    }
   ],
   "source": [
    "a.ndim # размерность массива (одномерный, двумерный и т.д.)"
   ]
  },
  {
   "cell_type": "code",
   "execution_count": 5,
   "id": "22f486a5-64d7-4234-8639-3bbe41d5939b",
   "metadata": {},
   "outputs": [
    {
     "data": {
      "text/plain": [
       "(3,)"
      ]
     },
     "execution_count": 5,
     "metadata": {},
     "output_type": "execute_result"
    }
   ],
   "source": [
    "a.shape # размеры массива (число строк, столбцов и т.д.)"
   ]
  },
  {
   "cell_type": "code",
   "execution_count": 6,
   "id": "43258897-62a3-4809-aedd-ccbf97ee514c",
   "metadata": {},
   "outputs": [],
   "source": [
    "b=array([(1.5, 2, 3), (4, 5, 6)]) # создание двумерного массива из двух последовательных чисел"
   ]
  },
  {
   "cell_type": "code",
   "execution_count": 7,
   "id": "112272f4-a33d-431f-87da-982ab84ea974",
   "metadata": {},
   "outputs": [
    {
     "name": "stdout",
     "output_type": "stream",
     "text": [
      "[[1.5 2.  3. ]\n",
      " [4.  5.  6. ]]\n"
     ]
    }
   ],
   "source": [
    "print(b) # все числа имеют один тип - число с плавающей точкой"
   ]
  },
  {
   "cell_type": "code",
   "execution_count": 8,
   "id": "16c42ce5-5009-4b2a-9072-560929d2f299",
   "metadata": {},
   "outputs": [
    {
     "data": {
      "text/plain": [
       "2"
      ]
     },
     "execution_count": 8,
     "metadata": {},
     "output_type": "execute_result"
    }
   ],
   "source": [
    "b.ndim"
   ]
  },
  {
   "cell_type": "code",
   "execution_count": 9,
   "id": "0fba5df1-8d46-4b76-80a1-9eb3d0be73cc",
   "metadata": {},
   "outputs": [
    {
     "data": {
      "text/plain": [
       "(2, 3)"
      ]
     },
     "execution_count": 9,
     "metadata": {},
     "output_type": "execute_result"
    }
   ],
   "source": [
    "b.shape"
   ]
  },
  {
   "cell_type": "code",
   "execution_count": 10,
   "id": "a613f510-5e76-47ff-999c-682654cd3750",
   "metadata": {},
   "outputs": [
    {
     "data": {
      "text/plain": [
       "6"
      ]
     },
     "execution_count": 10,
     "metadata": {},
     "output_type": "execute_result"
    }
   ],
   "source": [
    "b.size"
   ]
  },
  {
   "cell_type": "code",
   "execution_count": 12,
   "id": "bde108fd-9471-4f7c-b2fd-80cb2fbeb1e2",
   "metadata": {},
   "outputs": [],
   "source": [
    "z=zeros((3, 2)) # 3 ,2 помещаются в дополнительный скобки, чтобы представлять из себя один объект-пару чисел"
   ]
  },
  {
   "cell_type": "code",
   "execution_count": 13,
   "id": "568baa40-84bf-41f1-8eb4-53199831ee36",
   "metadata": {},
   "outputs": [
    {
     "data": {
      "text/plain": [
       "array([[0., 0.],\n",
       "       [0., 0.],\n",
       "       [0., 0.]])"
      ]
     },
     "execution_count": 13,
     "metadata": {},
     "output_type": "execute_result"
    }
   ],
   "source": [
    "z"
   ]
  },
  {
   "cell_type": "code",
   "execution_count": 14,
   "id": "a0f3fd23-99f2-4582-ba8c-57eda693f9c7",
   "metadata": {},
   "outputs": [
    {
     "data": {
      "text/plain": [
       "array([10, 15, 20, 25])"
      ]
     },
     "execution_count": 14,
     "metadata": {},
     "output_type": "execute_result"
    }
   ],
   "source": [
    "arange(10, 30, 5) # функция arange аналогична функции range, но возвращает массив"
   ]
  },
  {
   "cell_type": "code",
   "execution_count": 15,
   "id": "a86da5d3-8c2f-40c2-9c58-d19128b19ef7",
   "metadata": {},
   "outputs": [
    {
     "data": {
      "text/plain": [
       "array([0.  , 0.25, 0.5 , 0.75, 1.  , 1.25, 1.5 , 1.75, 2.  ])"
      ]
     },
     "execution_count": 15,
     "metadata": {},
     "output_type": "execute_result"
    }
   ],
   "source": [
    "linspace(0, 2, 9) # генерирует 9 чисел на отрезке от 0 до 2 с равным шагом"
   ]
  },
  {
   "cell_type": "code",
   "execution_count": 18,
   "id": "53ea1370-9191-4c5c-a9a1-72247d19e431",
   "metadata": {},
   "outputs": [
    {
     "name": "stdout",
     "output_type": "stream",
     "text": [
      "[[ 0  1  2]\n",
      " [ 3  4  5]\n",
      " [ 6  7  8]\n",
      " [ 9 10 11]]\n"
     ]
    }
   ],
   "source": [
    "b=arange(12).reshape(4, 3)\n",
    "print(b)"
   ]
  },
  {
   "cell_type": "code",
   "execution_count": 19,
   "id": "eedb7903-c95e-4aab-8788-c64176334ccb",
   "metadata": {},
   "outputs": [
    {
     "name": "stdout",
     "output_type": "stream",
     "text": [
      "[10 20 30]\n",
      "[0 1 2]\n"
     ]
    }
   ],
   "source": [
    "a=array([10, 20, 30])\n",
    "b=arange(3)\n",
    "print(a)\n",
    "print(b)"
   ]
  },
  {
   "cell_type": "code",
   "execution_count": 20,
   "id": "32e0f57a-49fa-44e1-b817-95f08b292247",
   "metadata": {},
   "outputs": [
    {
     "name": "stdout",
     "output_type": "stream",
     "text": [
      "[10 21 32]\n",
      "[10 19 28]\n"
     ]
    }
   ],
   "source": [
    "print(a+b) # арифметические операции на массивах выполняются поэлементно\n",
    "print(a-b)"
   ]
  },
  {
   "cell_type": "code",
   "execution_count": 21,
   "id": "c156708d-db91-4264-a545-5e7a5acd4a7c",
   "metadata": {},
   "outputs": [
    {
     "name": "stdout",
     "output_type": "stream",
     "text": [
      "[100 400 900]\n"
     ]
    }
   ],
   "source": [
    "print(a**2)"
   ]
  },
  {
   "cell_type": "code",
   "execution_count": 22,
   "id": "31c39f90-e502-436c-b4bd-aa35fdb7e909",
   "metadata": {},
   "outputs": [
    {
     "data": {
      "text/plain": [
       "array([-1.08804222,  1.8258905 , -1.97606325])"
      ]
     },
     "execution_count": 22,
     "metadata": {},
     "output_type": "execute_result"
    }
   ],
   "source": [
    "2*sin(a)"
   ]
  },
  {
   "cell_type": "code",
   "execution_count": 23,
   "id": "e488effe-7cda-4627-bb98-086b2a65dd76",
   "metadata": {},
   "outputs": [
    {
     "data": {
      "text/plain": [
       "array([ True, False, False])"
      ]
     },
     "execution_count": 23,
     "metadata": {},
     "output_type": "execute_result"
    }
   ],
   "source": [
    "a<20"
   ]
  },
  {
   "cell_type": "code",
   "execution_count": null,
   "id": "32d1759e-8740-41fd-8501-0a7d5962f87f",
   "metadata": {},
   "outputs": [],
   "source": []
  }
 ],
 "metadata": {
  "kernelspec": {
   "display_name": "Python 3 (ipykernel)",
   "language": "python",
   "name": "python3"
  },
  "language_info": {
   "codemirror_mode": {
    "name": "ipython",
    "version": 3
   },
   "file_extension": ".py",
   "mimetype": "text/x-python",
   "name": "python",
   "nbconvert_exporter": "python",
   "pygments_lexer": "ipython3",
   "version": "3.8.1"
  }
 },
 "nbformat": 4,
 "nbformat_minor": 5
}
