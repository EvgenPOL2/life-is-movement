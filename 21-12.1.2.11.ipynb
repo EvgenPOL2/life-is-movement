{
 "cells": [
  {
   "cell_type": "code",
   "execution_count": 2,
   "id": "b845cd11-33cd-4e62-90c3-8392441968c2",
   "metadata": {},
   "outputs": [
    {
     "name": "stdout",
     "output_type": "stream",
     "text": [
      "5 4 3 2 1 "
     ]
    }
   ],
   "source": [
    "a=5\n",
    "while a>0:\n",
    "    print(a, end=' ')\n",
    "    a-=1"
   ]
  },
  {
   "cell_type": "code",
   "execution_count": 9,
   "id": "24d64ad9-92a7-45cd-ac09-c4a87c191f82",
   "metadata": {},
   "outputs": [
    {
     "name": "stdout",
     "output_type": "stream",
     "text": [
      "5 7 9 11 13 15 17 19 21 23 25 27 29 31 33 35 37 39 41 43 45 47 49 51 53 55 "
     ]
    }
   ],
   "source": [
    "a=5\n",
    "while a<=55:\n",
    "    if a%2==1:\n",
    "        print(a, end=' ')\n",
    "    a+=1"
   ]
  },
  {
   "cell_type": "code",
   "execution_count": 10,
   "id": "e4371f34-0da4-4ed7-9127-71271f9ab0b8",
   "metadata": {},
   "outputs": [
    {
     "name": "stdout",
     "output_type": "stream",
     "text": [
      "*\n",
      "**\n",
      "***\n",
      "****\n",
      "*****\n",
      "******\n"
     ]
    }
   ],
   "source": [
    "c=1\n",
    "while c<=6:\n",
    "    print('*'*c)\n",
    "    c+=1"
   ]
  },
  {
   "cell_type": "code",
   "execution_count": 11,
   "id": "7523547a-3ab4-487a-895b-8d8800109fce",
   "metadata": {},
   "outputs": [
    {
     "name": "stdin",
     "output_type": "stream",
     "text": [
      " 8\n"
     ]
    },
    {
     "name": "stdout",
     "output_type": "stream",
     "text": [
      "*\n",
      "**\n",
      "***\n",
      "****\n",
      "*****\n",
      "******\n",
      "*******\n",
      "********\n"
     ]
    }
   ],
   "source": [
    "n=int(input())\n",
    "c=1\n",
    "while c<=n:\n",
    "    print('*'*c)\n",
    "    c+=1"
   ]
  },
  {
   "cell_type": "code",
   "execution_count": 13,
   "id": "53fa8861-193f-4fc5-a468-88240991576b",
   "metadata": {},
   "outputs": [
    {
     "name": "stdin",
     "output_type": "stream",
     "text": [
      " 6\n"
     ]
    },
    {
     "name": "stdout",
     "output_type": "stream",
     "text": [
      "*\n",
      "**\n",
      "***\n",
      "****\n",
      "*****\n",
      "******\n"
     ]
    }
   ],
   "source": [
    "n=int(input())\n",
    "c='*'\n",
    "while len(c)<=n:\n",
    "    print(c)\n",
    "    c+='*'"
   ]
  },
  {
   "cell_type": "code",
   "execution_count": 16,
   "id": "344338bf-8b6a-46d9-8757-c4c5ce7a9411",
   "metadata": {},
   "outputs": [
    {
     "name": "stdin",
     "output_type": "stream",
     "text": [
      "a 1\n",
      "b 3\n"
     ]
    },
    {
     "name": "stdout",
     "output_type": "stream",
     "text": [
      "6\n"
     ]
    }
   ],
   "source": [
    "a=int(input('a'))\n",
    "b=int(input('b'))\n",
    "s=0\n",
    "i=a\n",
    "while i<=b:\n",
    "      s+=i\n",
    "      i+=1\n",
    "print(s)\n",
    "      "
   ]
  },
  {
   "cell_type": "code",
   "execution_count": 24,
   "id": "d983c092-0b0e-4e3d-9e3a-12781baa5dfa",
   "metadata": {},
   "outputs": [
    {
     "name": "stdout",
     "output_type": "stream",
     "text": [
      "1\n",
      "2\n",
      "3\n",
      "4\n",
      "5\n",
      "6\n",
      "7\n",
      "10\n",
      "13\n"
     ]
    }
   ],
   "source": [
    "k=0\n",
    "while k<=10:\n",
    "    k=k+1\n",
    "    if k>7:\n",
    "        k=k+2\n",
    "    print(k)"
   ]
  },
  {
   "cell_type": "code",
   "execution_count": 25,
   "id": "c620a28a-25d5-4149-b323-4b49577e6f38",
   "metadata": {},
   "outputs": [
    {
     "name": "stdout",
     "output_type": "stream",
     "text": [
      "*\n",
      "**\n",
      "*\n",
      "*\n",
      "**\n",
      "*\n",
      "***\n",
      "*\n",
      "**\n",
      "***\n"
     ]
    }
   ],
   "source": [
    "k=0\n",
    "while k<5:\n",
    "    print('*')\n",
    "    if k%2==0:\n",
    "        print('**')\n",
    "    if k>2:\n",
    "        print('***')\n",
    "    k=k+1"
   ]
  },
  {
   "cell_type": "code",
   "execution_count": null,
   "id": "de1dafa9-c41e-4d6d-a5f5-1a59d4862000",
   "metadata": {},
   "outputs": [],
   "source": []
  }
 ],
 "metadata": {
  "kernelspec": {
   "display_name": "Python 3 (ipykernel)",
   "language": "python",
   "name": "python3"
  },
  "language_info": {
   "codemirror_mode": {
    "name": "ipython",
    "version": 3
   },
   "file_extension": ".py",
   "mimetype": "text/x-python",
   "name": "python",
   "nbconvert_exporter": "python",
   "pygments_lexer": "ipython3",
   "version": "3.8.1"
  }
 },
 "nbformat": 4,
 "nbformat_minor": 5
}
