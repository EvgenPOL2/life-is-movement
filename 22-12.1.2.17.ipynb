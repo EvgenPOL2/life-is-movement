{
 "cells": [
  {
   "cell_type": "code",
   "execution_count": 1,
   "id": "b0f3ebe3-db5b-404b-95d9-9b3092ca54ff",
   "metadata": {},
   "outputs": [
    {
     "name": "stdout",
     "output_type": "stream",
     "text": [
      "{'banana', 'apple', 'orange', 'pear'}\n"
     ]
    }
   ],
   "source": [
    "basket={'apple', 'orange', 'apple', 'pear', 'orange', 'banana'}\n",
    "print(basket)"
   ]
  },
  {
   "cell_type": "code",
   "execution_count": 3,
   "id": "34d35afd-e12c-4d97-b757-0c7f7940c7fe",
   "metadata": {},
   "outputs": [
    {
     "name": "stdout",
     "output_type": "stream",
     "text": [
      "banana\n",
      "apple\n",
      "orange\n",
      "pear\n"
     ]
    }
   ],
   "source": [
    "basket={'apple', 'orange', 'apple', 'pear', 'orange', 'banana'}\n",
    "for x in basket:\n",
    "    print(x)"
   ]
  },
  {
   "cell_type": "code",
   "execution_count": 4,
   "id": "4b11c312-0cd6-413f-8387-749f525744fe",
   "metadata": {},
   "outputs": [
    {
     "name": "stdout",
     "output_type": "stream",
     "text": [
      "C A T G "
     ]
    }
   ],
   "source": [
    "d={'C':14, 'A':12, 'T':9, 'G':18}\n",
    "for key in d:\n",
    "    print(key, end=' ')"
   ]
  },
  {
   "cell_type": "code",
   "execution_count": 5,
   "id": "d1160c7d-3702-47fe-b09c-b2dd2987351e",
   "metadata": {},
   "outputs": [
    {
     "name": "stdout",
     "output_type": "stream",
     "text": [
      "C A T G "
     ]
    }
   ],
   "source": [
    "d={'C':14, 'A':12, 'T':9, 'G':18}\n",
    "for key in d.keys():\n",
    "    print(key, end=' ')"
   ]
  },
  {
   "cell_type": "code",
   "execution_count": 7,
   "id": "abd6f328-0a04-4eae-8c19-65049b1d9b01",
   "metadata": {},
   "outputs": [
    {
     "name": "stdout",
     "output_type": "stream",
     "text": [
      "14 12 9 18 "
     ]
    }
   ],
   "source": [
    "d={'C':14, 'A':12, 'T':9, 'G':18}\n",
    "for value in d.values():\n",
    "    print(value, end=' ')"
   ]
  },
  {
   "cell_type": "code",
   "execution_count": 11,
   "id": "9746e28e-df02-419d-b70d-0de108626b0e",
   "metadata": {},
   "outputs": [
    {
     "name": "stdout",
     "output_type": "stream",
     "text": [
      "C 14 A 12 T 9 G 18 "
     ]
    }
   ],
   "source": [
    "d={'C':14, 'A':12, 'T':9, 'G':18}\n",
    "for key, value in d.items():\n",
    "    print(key, value, end=' ')"
   ]
  },
  {
   "cell_type": "code",
   "execution_count": 14,
   "id": "d8784343-49d2-43f8-bcbe-480c09e5121d",
   "metadata": {},
   "outputs": [
    {
     "name": "stdout",
     "output_type": "stream",
     "text": [
      "{2: [2, 2]}\n",
      "{2: [2, 2], 3: [4]}\n"
     ]
    }
   ],
   "source": [
    "dict={2:[2]}\n",
    "dict[2]+=[2]\n",
    "print(dict)\n",
    "dict[3]=[4]\n",
    "print(dict)"
   ]
  }
 ],
 "metadata": {
  "kernelspec": {
   "display_name": "Python 3 (ipykernel)",
   "language": "python",
   "name": "python3"
  },
  "language_info": {
   "codemirror_mode": {
    "name": "ipython",
    "version": 3
   },
   "file_extension": ".py",
   "mimetype": "text/x-python",
   "name": "python",
   "nbconvert_exporter": "python",
   "pygments_lexer": "ipython3",
   "version": "3.8.1"
  }
 },
 "nbformat": 4,
 "nbformat_minor": 5
}
