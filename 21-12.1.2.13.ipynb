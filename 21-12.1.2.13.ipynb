{
 "cells": [
  {
   "cell_type": "code",
   "execution_count": 4,
   "id": "e96bd565-f7f6-4519-b681-a80bcc19c4cc",
   "metadata": {},
   "outputs": [
    {
     "name": "stdin",
     "output_type": "stream",
     "text": [
      " 3 7\n"
     ]
    },
    {
     "name": "stdout",
     "output_type": "stream",
     "text": [
      "15\n"
     ]
    }
   ],
   "source": [
    "a, b = input().split()\n",
    "a=int(a)\n",
    "b=int(b)\n",
    "s=0\n",
    "for i in range (a, b+1):\n",
    "    if i%2==1:\n",
    "        s+=i\n",
    "print (s)"
   ]
  },
  {
   "cell_type": "code",
   "execution_count": 5,
   "id": "0cbb62ac-b3d2-4403-bd35-b13054a1f765",
   "metadata": {},
   "outputs": [
    {
     "name": "stdin",
     "output_type": "stream",
     "text": [
      " 3 7\n"
     ]
    },
    {
     "name": "stdout",
     "output_type": "stream",
     "text": [
      "15\n"
     ]
    }
   ],
   "source": [
    "a, b = input().split()\n",
    "a=int(a)\n",
    "b=int(b)\n",
    "s=0\n",
    "if a%2==0:\n",
    "    a+=1   \n",
    "for i in range (a, b+1, 2):\n",
    "    s+=i\n",
    "print (s)"
   ]
  },
  {
   "cell_type": "code",
   "execution_count": 32,
   "id": "236211f5-a229-4b8d-9ae7-4b0ec96ff7e2",
   "metadata": {},
   "outputs": [
    {
     "name": "stdin",
     "output_type": "stream",
     "text": [
      " 3 7\n"
     ]
    },
    {
     "name": "stdout",
     "output_type": "stream",
     "text": [
      "15\n"
     ]
    }
   ],
   "source": [
    "a, b = (int(i) for i in input().split())\n",
    "s=0\n",
    "if a%2==0:\n",
    "    a+=1\n",
    "for i in range (a, b+1, 2):\n",
    "        s +=i\n",
    "print (s)"
   ]
  },
  {
   "cell_type": "code",
   "execution_count": 11,
   "id": "b9faa329-24b7-4efb-9e06-841cb25b20c7",
   "metadata": {},
   "outputs": [
    {
     "name": "stdout",
     "output_type": "stream",
     "text": [
      "4\n",
      "9\n",
      "25\n"
     ]
    }
   ],
   "source": [
    "for i in 2, 3, 5:\n",
    "    print(i*i)"
   ]
  },
  {
   "cell_type": "code",
   "execution_count": 13,
   "id": "3a6c63f9-43e7-4c81-a54d-6d216573bbd8",
   "metadata": {},
   "outputs": [
    {
     "name": "stdout",
     "output_type": "stream",
     "text": [
      "0 1 4 9 16 25 36 49 64 81 "
     ]
    }
   ],
   "source": [
    "for i in range(10):\n",
    "    print(i*i, end=' ')"
   ]
  },
  {
   "cell_type": "code",
   "execution_count": 21,
   "id": "bedfee29-619f-4a8a-8ba7-8dd9241d2b53",
   "metadata": {},
   "outputs": [
    {
     "name": "stdin",
     "output_type": "stream",
     "text": [
      " 4\n"
     ]
    },
    {
     "name": "stdout",
     "output_type": "stream",
     "text": [
      "****\n",
      "****\n",
      "****\n",
      "****\n"
     ]
    }
   ],
   "source": [
    "n=int(input())\n",
    "for i in range(n):\n",
    "    print ('*' *n)"
   ]
  },
  {
   "cell_type": "code",
   "execution_count": 19,
   "id": "adb9082f-8555-4938-83df-c90864cc9a1d",
   "metadata": {},
   "outputs": [
    {
     "name": "stdin",
     "output_type": "stream",
     "text": [
      " 3\n"
     ]
    },
    {
     "name": "stdout",
     "output_type": "stream",
     "text": [
      "***\n"
     ]
    }
   ],
   "source": [
    "n=int(input())\n",
    "print ('*' *n)"
   ]
  },
  {
   "cell_type": "code",
   "execution_count": 28,
   "id": "71f90f30-cca0-4a93-8b36-2be27be2dd19",
   "metadata": {},
   "outputs": [
    {
     "name": "stdin",
     "output_type": "stream",
     "text": [
      " 3\n"
     ]
    },
    {
     "name": "stdout",
     "output_type": "stream",
     "text": [
      "***\n",
      "***\n",
      "***\n"
     ]
    }
   ],
   "source": [
    "n=int(input())\n",
    "for i in range(n):\n",
    "    for j in range(n):\n",
    "        print ('*', end='')\n",
    "    print()"
   ]
  },
  {
   "cell_type": "code",
   "execution_count": 47,
   "id": "8a68873a-a345-45ae-bfb8-11bd635e5a56",
   "metadata": {},
   "outputs": [
    {
     "name": "stdin",
     "output_type": "stream",
     "text": [
      " -51415 124151\n"
     ]
    },
    {
     "name": "stdout",
     "output_type": "stream",
     "text": [
      "1277008395\n",
      "35114\n",
      "36367.5\n"
     ]
    }
   ],
   "source": [
    "a, b = (int(i) for i in input().split())\n",
    "s=0\n",
    "n=0\n",
    "for i in range (a, b+1):\n",
    "    if i%5==0:\n",
    "        s+=i\n",
    "        n+=1\n",
    "print (s)\n",
    "print (n)\n",
    "print (s/n)"
   ]
  },
  {
   "cell_type": "code",
   "execution_count": 46,
   "id": "8b15af96-5ee7-4cea-98b3-0202ab8dd6a4",
   "metadata": {},
   "outputs": [
    {
     "name": "stdin",
     "output_type": "stream",
     "text": [
      " -25 14\n"
     ]
    },
    {
     "name": "stdout",
     "output_type": "stream",
     "text": [
      "-60\n",
      "8\n",
      "-7.5\n"
     ]
    }
   ],
   "source": [
    "a, b = (int(i) for i in input().split())\n",
    "s=0\n",
    "n=0\n",
    "for i in range (a, b+1):\n",
    "    if i%5==0:\n",
    "        s+=i\n",
    "        n+=1\n",
    "print (s)\n",
    "print (n)\n",
    "print (s/n)"
   ]
  },
  {
   "cell_type": "code",
   "execution_count": null,
   "id": "04bfef6d-798a-4836-947a-3307b1a7dec7",
   "metadata": {},
   "outputs": [],
   "source": []
  }
 ],
 "metadata": {
  "kernelspec": {
   "display_name": "Python 3 (ipykernel)",
   "language": "python",
   "name": "python3"
  },
  "language_info": {
   "codemirror_mode": {
    "name": "ipython",
    "version": 3
   },
   "file_extension": ".py",
   "mimetype": "text/x-python",
   "name": "python",
   "nbconvert_exporter": "python",
   "pygments_lexer": "ipython3",
   "version": "3.8.1"
  }
 },
 "nbformat": 4,
 "nbformat_minor": 5
}
