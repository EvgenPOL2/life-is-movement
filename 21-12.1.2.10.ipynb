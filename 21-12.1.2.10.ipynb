{
 "cells": [
  {
   "cell_type": "code",
   "execution_count": 1,
   "id": "2b18f2e6-0268-4ca9-84d3-0397db6f7952",
   "metadata": {},
   "outputs": [
    {
     "name": "stdout",
     "output_type": "stream",
     "text": [
      "one two\n"
     ]
    }
   ],
   "source": [
    "a='one'\n",
    "b='two'\n",
    "print(a, b)"
   ]
  },
  {
   "cell_type": "code",
   "execution_count": 2,
   "id": "a364c393-f9f8-4e42-b24f-54783ecc2ebe",
   "metadata": {},
   "outputs": [
    {
     "name": "stdout",
     "output_type": "stream",
     "text": [
      "onetwo\n"
     ]
    }
   ],
   "source": [
    "print(a+b)"
   ]
  },
  {
   "cell_type": "code",
   "execution_count": 12,
   "id": "e290b0f3-ef08-461f-8f42-db571c05e03b",
   "metadata": {},
   "outputs": [
    {
     "name": "stdout",
     "output_type": "stream",
     "text": [
      "one\n",
      "two\n"
     ]
    }
   ],
   "source": [
    "print(a+'\\n'+b)# rrrrrr"
   ]
  },
  {
   "cell_type": "code",
   "execution_count": 18,
   "id": "c6e56ac0-7c48-4e73-8bcd-74357bc08bf7",
   "metadata": {},
   "outputs": [
    {
     "name": "stdout",
     "output_type": "stream",
     "text": [
      "one \n",
      "\n",
      "\n",
      "\n",
      " two\n"
     ]
    }
   ],
   "source": [
    "print(a,'\\n\\n\\n\\n',b)# rrrrrr"
   ]
  },
  {
   "cell_type": "code",
   "execution_count": null,
   "id": "4e81ba58-428b-42c0-ad52-94888daf4f36",
   "metadata": {},
   "outputs": [],
   "source": []
  }
 ],
 "metadata": {
  "kernelspec": {
   "display_name": "Python 3 (ipykernel)",
   "language": "python",
   "name": "python3"
  },
  "language_info": {
   "codemirror_mode": {
    "name": "ipython",
    "version": 3
   },
   "file_extension": ".py",
   "mimetype": "text/x-python",
   "name": "python",
   "nbconvert_exporter": "python",
   "pygments_lexer": "ipython3",
   "version": "3.8.1"
  }
 },
 "nbformat": 4,
 "nbformat_minor": 5
}
