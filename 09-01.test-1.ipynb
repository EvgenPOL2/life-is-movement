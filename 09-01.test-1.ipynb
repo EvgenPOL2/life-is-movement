{
 "cells": [
  {
   "cell_type": "code",
   "execution_count": null,
   "id": "3c6cffb2-4f6e-4f30-b98f-579e1f17ca8e",
   "metadata": {},
   "outputs": [
    {
     "name": "stdout",
     "output_type": "stream",
     "text": [
      "Выполняемые операции: \"+\" - сложение чисел, \"-\" - вычитание чисел, \"/\" - деление чисел, \"*\" - умножение чисел, \"%\" - взятие остатка от деления, \"**\" - возведение первого числа в степень второго, \"//\" - целочисленное деление\n",
      " \n"
     ]
    }
   ],
   "source": [
    "from numpy import *\n",
    "print('''Выполняемые операции: \"+\" - сложение чисел, \"-\" - вычитание чисел, \"/\" - деление чисел, \"*\" - умножение чисел, \"%\" - взятие остатка от деления, \"**\" - возведение первого числа в степень второго, \"//\" - целочисленное деление\\n ''')\n",
    "n=input('Начать работу (y/n)?:')\n",
    "while n=='y':\n",
    "    a=float(input('Введите первое число:'))\n",
    "    c=input('Введите необходимую операцию:')\n",
    "    b=float(input('Введите второе число:'))\n",
    "    print('РЕЗУЛЬТАТ:')\n",
    "    if c=='+':\n",
    "        print('Сложение чисел=', a+b)\n",
    "    elif c=='-':\n",
    "        print('Вычитание чисел=', a-b)\n",
    "    elif c=='/'and b!=0: \n",
    "        print('Деление чисел=', a/b)\n",
    "    elif c=='*':\n",
    "        print('Умножение чисел=', a*b)\n",
    "    elif c=='%'and b!=0:\n",
    "        print('Остаток от деления чисел=', mod(a, b))\n",
    "    elif c=='**':\n",
    "        if a==0 and b==0:\n",
    "            print('Возведение 0 в степень 0 не имеет смысла')\n",
    "        else:   \n",
    "            print('Возведение первого числа в степень второго=', pow(a, b))\n",
    "    elif c=='//'and b!=0:\n",
    "        def div(a, b):\n",
    "            return a//b\n",
    "        print('Целочисленное деление чисел=', div(a, b))\n",
    "    else:\n",
    "        print ('Деление на 0! или ошибка при вводе операции\\n')\n",
    "    print(' ')\n",
    "    n=input('Продолжить работу (y/n)?:')\n",
    "    print(' ')\n",
    "print('До встречи!')"
   ]
  },
  {
   "cell_type": "code",
   "execution_count": null,
   "id": "e006ef0b-21eb-4605-af97-022383210ea0",
   "metadata": {},
   "outputs": [],
   "source": []
  }
 ],
 "metadata": {
  "kernelspec": {
   "display_name": "Python 3 (ipykernel)",
   "language": "python",
   "name": "python3"
  },
  "language_info": {
   "codemirror_mode": {
    "name": "ipython",
    "version": 3
   },
   "file_extension": ".py",
   "mimetype": "text/x-python",
   "name": "python",
   "nbconvert_exporter": "python",
   "pygments_lexer": "ipython3",
   "version": "3.9.12"
  }
 },
 "nbformat": 4,
 "nbformat_minor": 5
}
